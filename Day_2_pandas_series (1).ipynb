{
  "cells": [
    {
      "cell_type": "markdown",
      "source": [
        "# **Importing Pandas**"
      ],
      "metadata": {
        "id": "PELoC3PRcuvR"
      }
    },
    {
      "cell_type": "code",
      "source": [
        "import pandas as pd"
      ],
      "metadata": {
        "id": "A6UXYJtwcpVV"
      },
      "execution_count": 18,
      "outputs": []
    },
    {
      "cell_type": "markdown",
      "source": [
        "# **Pandas Series**\n",
        "A Pandas Series is like a column in a table. It is a 1-D array holding data of any type.**"
      ],
      "metadata": {
        "id": "iBeaUp3Bc2ea"
      }
    },
    {
      "cell_type": "markdown",
      "source": [
        "# **Creating a Series from lists**"
      ],
      "metadata": {
        "id": "ITHHmmktdB1S"
      }
    },
    {
      "cell_type": "code",
      "source": [
        "#using String \n",
        "country = ['india','USA','Nepal','Russia']\n",
        "pd.Series(country)"
      ],
      "metadata": {
        "colab": {
          "base_uri": "https://localhost:8080/"
        },
        "id": "igrUHA9ecyOR",
        "outputId": "075efd8e-5598-4e53-9c30-cccf10c11674"
      },
      "execution_count": 19,
      "outputs": [
        {
          "output_type": "execute_result",
          "data": {
            "text/plain": [
              "0     india\n",
              "1       USA\n",
              "2     Nepal\n",
              "3    Russia\n",
              "dtype: object"
            ]
          },
          "metadata": {},
          "execution_count": 19
        }
      ]
    },
    {
      "cell_type": "code",
      "source": [
        "numbers = [13,14,15,16,70,89,85]  #using integers\n",
        "pd.Series(numbers)"
      ],
      "metadata": {
        "colab": {
          "base_uri": "https://localhost:8080/"
        },
        "id": "o88AGwu2c4pp",
        "outputId": "61d6fddf-a65e-4795-b7b9-fbf04456d12e"
      },
      "execution_count": 20,
      "outputs": [
        {
          "output_type": "execute_result",
          "data": {
            "text/plain": [
              "0    13\n",
              "1    14\n",
              "2    15\n",
              "3    16\n",
              "4    70\n",
              "5    89\n",
              "6    85\n",
              "dtype: int64"
            ]
          },
          "metadata": {},
          "execution_count": 20
        }
      ]
    },
    {
      "cell_type": "markdown",
      "source": [
        "# **Custom Index**"
      ],
      "metadata": {
        "id": "63KqZVakd3QF"
      }
    },
    {
      "cell_type": "code",
      "source": [
        "# custom index\n",
        "marks = [67,57,89,100]\n",
        "subjects = ['maths','english','science','hindi']"
      ],
      "metadata": {
        "id": "c5VSvqrZdr-g"
      },
      "execution_count": 21,
      "outputs": []
    },
    {
      "cell_type": "code",
      "source": [
        "result = pd.Series(marks,index=subjects)\n",
        "result"
      ],
      "metadata": {
        "colab": {
          "base_uri": "https://localhost:8080/"
        },
        "id": "Wm8TlXcvd69w",
        "outputId": "d2bd58a3-54be-4a15-8d3f-c1d432dcee8a"
      },
      "execution_count": 22,
      "outputs": [
        {
          "output_type": "execute_result",
          "data": {
            "text/plain": [
              "maths       67\n",
              "english     57\n",
              "science     89\n",
              "hindi      100\n",
              "dtype: int64"
            ]
          },
          "metadata": {},
          "execution_count": 22
        }
      ]
    },
    {
      "cell_type": "markdown",
      "source": [
        "**Give a specific series name**"
      ],
      "metadata": {
        "id": "Ole3QBQGeN_B"
      }
    },
    {
      "cell_type": "code",
      "source": [
        "result = pd.Series(marks,index=subjects,name='Rohit Verma')\n",
        "result"
      ],
      "metadata": {
        "colab": {
          "base_uri": "https://localhost:8080/"
        },
        "id": "zR4MmqHoeIf4",
        "outputId": "90842c24-9343-4c37-d11a-2cf3f384114d"
      },
      "execution_count": 23,
      "outputs": [
        {
          "output_type": "execute_result",
          "data": {
            "text/plain": [
              "maths       67\n",
              "english     57\n",
              "science     89\n",
              "hindi      100\n",
              "Name: Rohit Verma, dtype: int64"
            ]
          },
          "metadata": {},
          "execution_count": 23
        }
      ]
    },
    {
      "cell_type": "markdown",
      "source": [
        "# **Creating a Series from dict**"
      ],
      "metadata": {
        "id": "ZgQAH88_efSh"
      }
    },
    {
      "cell_type": "code",
      "source": [
        "marks = {\n",
        "    'Maths':67,\n",
        "    'English':57,\n",
        "    'Science':89,\n",
        "    'Hindi':100,\n",
        "    'Data Science':96\n",
        "}\n",
        "marks"
      ],
      "metadata": {
        "colab": {
          "base_uri": "https://localhost:8080/"
        },
        "id": "e7qZiib6eSmA",
        "outputId": "aa101558-7585-4def-def0-8697040c84f5"
      },
      "execution_count": 24,
      "outputs": [
        {
          "output_type": "execute_result",
          "data": {
            "text/plain": [
              "{'Maths': 67, 'English': 57, 'Science': 89, 'Hindi': 100, 'Data Science': 96}"
            ]
          },
          "metadata": {},
          "execution_count": 24
        }
      ]
    },
    {
      "cell_type": "code",
      "source": [
        "dic=pd.Series(marks,name='Rohit_Result')\n",
        "dic"
      ],
      "metadata": {
        "colab": {
          "base_uri": "https://localhost:8080/"
        },
        "id": "XnFjaaSfej_w",
        "outputId": "d8b33e95-b24f-4a5f-ceb3-fe6b379f3cc9"
      },
      "execution_count": 25,
      "outputs": [
        {
          "output_type": "execute_result",
          "data": {
            "text/plain": [
              "Maths            67\n",
              "English          57\n",
              "Science          89\n",
              "Hindi           100\n",
              "Data Science     96\n",
              "Name: Rohit_Result, dtype: int64"
            ]
          },
          "metadata": {},
          "execution_count": 25
        }
      ]
    },
    {
      "cell_type": "markdown",
      "source": [
        "# **Some attribute of a Series pandas**\n",
        "**size,dtype,is_unique,name,index,values**"
      ],
      "metadata": {
        "id": "VOAo_2SBfLvm"
      }
    },
    {
      "cell_type": "code",
      "source": [
        "#size\n",
        "dic"
      ],
      "metadata": {
        "colab": {
          "base_uri": "https://localhost:8080/"
        },
        "id": "e-sgrmQje5C4",
        "outputId": "688ff773-2aa4-4b9a-b843-70dbf40a16ae"
      },
      "execution_count": 26,
      "outputs": [
        {
          "output_type": "execute_result",
          "data": {
            "text/plain": [
              "Maths            67\n",
              "English          57\n",
              "Science          89\n",
              "Hindi           100\n",
              "Data Science     96\n",
              "Name: Rohit_Result, dtype: int64"
            ]
          },
          "metadata": {},
          "execution_count": 26
        }
      ]
    },
    {
      "cell_type": "code",
      "source": [
        "dic.size"
      ],
      "metadata": {
        "colab": {
          "base_uri": "https://localhost:8080/"
        },
        "id": "uSk4Nx3sfRW_",
        "outputId": "9ba3ed89-7dd4-4980-9107-6a7be28f524c"
      },
      "execution_count": 27,
      "outputs": [
        {
          "output_type": "execute_result",
          "data": {
            "text/plain": [
              "5"
            ]
          },
          "metadata": {},
          "execution_count": 27
        }
      ]
    },
    {
      "cell_type": "code",
      "source": [
        "#dtype\n",
        "dic.dtype"
      ],
      "metadata": {
        "colab": {
          "base_uri": "https://localhost:8080/"
        },
        "id": "EflpZ6iofuZY",
        "outputId": "850636c4-1c55-4006-d555-ddf3aff94270"
      },
      "execution_count": 28,
      "outputs": [
        {
          "output_type": "execute_result",
          "data": {
            "text/plain": [
              "dtype('int64')"
            ]
          },
          "metadata": {},
          "execution_count": 28
        }
      ]
    },
    {
      "cell_type": "code",
      "source": [
        "#is_unique, means all the element is present in the series is unique\n",
        "dic.is_unique"
      ],
      "metadata": {
        "colab": {
          "base_uri": "https://localhost:8080/"
        },
        "id": "iBBjK17qfzT4",
        "outputId": "b0ef3343-c720-464a-eefb-351a7ee0fbb4"
      },
      "execution_count": 29,
      "outputs": [
        {
          "output_type": "execute_result",
          "data": {
            "text/plain": [
              "True"
            ]
          },
          "metadata": {},
          "execution_count": 29
        }
      ]
    },
    {
      "cell_type": "code",
      "source": [
        "pd.Series([1,1,2,3,4,5,5,6]).is_unique #it contain some same values"
      ],
      "metadata": {
        "colab": {
          "base_uri": "https://localhost:8080/"
        },
        "id": "9hfcpQ-sgfcB",
        "outputId": "e448fcc6-d2a5-404c-f5d2-e967bd284b4a"
      },
      "execution_count": 30,
      "outputs": [
        {
          "output_type": "execute_result",
          "data": {
            "text/plain": [
              "False"
            ]
          },
          "metadata": {},
          "execution_count": 30
        }
      ]
    },
    {
      "cell_type": "code",
      "source": [
        "#index\n",
        "dic.index"
      ],
      "metadata": {
        "colab": {
          "base_uri": "https://localhost:8080/"
        },
        "id": "0EhPSv4Qf5Io",
        "outputId": "3e147301-3345-47f2-9e85-ed2c1a1d18a0"
      },
      "execution_count": 31,
      "outputs": [
        {
          "output_type": "execute_result",
          "data": {
            "text/plain": [
              "Index(['Maths', 'English', 'Science', 'Hindi', 'Data Science'], dtype='object')"
            ]
          },
          "metadata": {},
          "execution_count": 31
        }
      ]
    },
    {
      "cell_type": "code",
      "source": [
        "#values\n",
        "dic.values"
      ],
      "metadata": {
        "colab": {
          "base_uri": "https://localhost:8080/"
        },
        "id": "TUyGqD2dgQgI",
        "outputId": "852c72f9-c66e-49e6-c0be-16e1939c47b6"
      },
      "execution_count": 32,
      "outputs": [
        {
          "output_type": "execute_result",
          "data": {
            "text/plain": [
              "array([ 67,  57,  89, 100,  96])"
            ]
          },
          "metadata": {},
          "execution_count": 32
        }
      ]
    },
    {
      "cell_type": "markdown",
      "source": [
        "# **Series using read_csv file**"
      ],
      "metadata": {
        "id": "8V3RjNwcg0dg"
      }
    },
    {
      "cell_type": "code",
      "source": [
        "#here i have random number file download from campus x \n",
        "num=pd.read_csv(\"/content/subs.csv\",squeeze=True)\n",
        "num               #generally pandas load csv file and save them in data frame that's why we use 'squeeze'parameter"
      ],
      "metadata": {
        "colab": {
          "base_uri": "https://localhost:8080/"
        },
        "id": "F6UupJ2xgbQQ",
        "outputId": "28716711-c034-4ea1-c322-69fd130bd23c"
      },
      "execution_count": 33,
      "outputs": [
        {
          "output_type": "execute_result",
          "data": {
            "text/plain": [
              "0       48\n",
              "1       57\n",
              "2       40\n",
              "3       43\n",
              "4       44\n",
              "      ... \n",
              "360    231\n",
              "361    226\n",
              "362    155\n",
              "363    144\n",
              "364    172\n",
              "Name: Subscribers gained, Length: 365, dtype: int64"
            ]
          },
          "metadata": {},
          "execution_count": 33
        }
      ]
    },
    {
      "cell_type": "code",
      "source": [
        "#i have alrady download two file from campus x youtube chanel it's 'movie' and 'virat kohli matches runs' \n",
        "vk=pd.read_csv(\"/content/kohli_ipl.csv\",squeeze=True,index_col='match_no') #in this i use 'index_col' parameter to give specific index name\n",
        "vk"
      ],
      "metadata": {
        "colab": {
          "base_uri": "https://localhost:8080/"
        },
        "id": "4zAaih_PhBRJ",
        "outputId": "f97dd885-d9fc-40ce-8a7a-671c07911b73"
      },
      "execution_count": 34,
      "outputs": [
        {
          "output_type": "execute_result",
          "data": {
            "text/plain": [
              "match_no\n",
              "1       1\n",
              "2      23\n",
              "3      13\n",
              "4      12\n",
              "5       1\n",
              "       ..\n",
              "211     0\n",
              "212    20\n",
              "213    73\n",
              "214    25\n",
              "215     7\n",
              "Name: runs, Length: 215, dtype: int64"
            ]
          },
          "metadata": {},
          "execution_count": 34
        }
      ]
    },
    {
      "cell_type": "code",
      "source": [
        "movie=pd.read_csv(\"/content/bollywood.csv\",squeeze=True,index_col=\"movie\")\n",
        "movie"
      ],
      "metadata": {
        "colab": {
          "base_uri": "https://localhost:8080/"
        },
        "id": "Z34zHz-Ti_dJ",
        "outputId": "f693553c-9e12-4d46-8850-322c6ddab5a6"
      },
      "execution_count": 35,
      "outputs": [
        {
          "output_type": "execute_result",
          "data": {
            "text/plain": [
              "movie\n",
              "Uri: The Surgical Strike                   Vicky Kaushal\n",
              "Battalion 609                                Vicky Ahuja\n",
              "The Accidental Prime Minister (film)         Anupam Kher\n",
              "Why Cheat India                            Emraan Hashmi\n",
              "Evening Shadows                         Mona Ambegaonkar\n",
              "                                              ...       \n",
              "Hum Tumhare Hain Sanam                    Shah Rukh Khan\n",
              "Aankhen (2002 film)                     Amitabh Bachchan\n",
              "Saathiya (film)                             Vivek Oberoi\n",
              "Company (film)                                Ajay Devgn\n",
              "Awara Paagal Deewana                        Akshay Kumar\n",
              "Name: lead, Length: 1500, dtype: object"
            ]
          },
          "metadata": {},
          "execution_count": 35
        }
      ]
    },
    {
      "cell_type": "markdown",
      "source": [
        "# **Pandas series method**\n",
        "**head(),tail(),count(),value_counts(),sort_values(),sort_index(),inplace-parameter**"
      ],
      "metadata": {
        "id": "9-Lfr9ktj5jC"
      }
    },
    {
      "cell_type": "code",
      "source": [
        "movie.head() #check the top 5 reacord's or give the specific number in head() like head(4)"
      ],
      "metadata": {
        "colab": {
          "base_uri": "https://localhost:8080/"
        },
        "id": "FiHQVjJZjtjh",
        "outputId": "505c4fc1-d190-4f6a-b425-eff445329ccd"
      },
      "execution_count": 36,
      "outputs": [
        {
          "output_type": "execute_result",
          "data": {
            "text/plain": [
              "movie\n",
              "Uri: The Surgical Strike                   Vicky Kaushal\n",
              "Battalion 609                                Vicky Ahuja\n",
              "The Accidental Prime Minister (film)         Anupam Kher\n",
              "Why Cheat India                            Emraan Hashmi\n",
              "Evening Shadows                         Mona Ambegaonkar\n",
              "Name: lead, dtype: object"
            ]
          },
          "metadata": {},
          "execution_count": 36
        }
      ]
    },
    {
      "cell_type": "code",
      "source": [
        "movie.head(4)"
      ],
      "metadata": {
        "colab": {
          "base_uri": "https://localhost:8080/"
        },
        "id": "SKuA1--5j7yX",
        "outputId": "39227056-86db-48ba-e446-055e198c15e1"
      },
      "execution_count": 37,
      "outputs": [
        {
          "output_type": "execute_result",
          "data": {
            "text/plain": [
              "movie\n",
              "Uri: The Surgical Strike                Vicky Kaushal\n",
              "Battalion 609                             Vicky Ahuja\n",
              "The Accidental Prime Minister (film)      Anupam Kher\n",
              "Why Cheat India                         Emraan Hashmi\n",
              "Name: lead, dtype: object"
            ]
          },
          "metadata": {},
          "execution_count": 37
        }
      ]
    },
    {
      "cell_type": "code",
      "source": [
        "#check tail()\n",
        "movie.tail()"
      ],
      "metadata": {
        "colab": {
          "base_uri": "https://localhost:8080/"
        },
        "id": "C33NB3TWk8bQ",
        "outputId": "41fd191e-a6a8-4a8b-dc65-d64ee737e380"
      },
      "execution_count": 38,
      "outputs": [
        {
          "output_type": "execute_result",
          "data": {
            "text/plain": [
              "movie\n",
              "Hum Tumhare Hain Sanam      Shah Rukh Khan\n",
              "Aankhen (2002 film)       Amitabh Bachchan\n",
              "Saathiya (film)               Vivek Oberoi\n",
              "Company (film)                  Ajay Devgn\n",
              "Awara Paagal Deewana          Akshay Kumar\n",
              "Name: lead, dtype: object"
            ]
          },
          "metadata": {},
          "execution_count": 38
        }
      ]
    },
    {
      "cell_type": "code",
      "source": [
        "#value_counts is count the number of times \n",
        "movie.value_counts()"
      ],
      "metadata": {
        "colab": {
          "base_uri": "https://localhost:8080/"
        },
        "id": "5Ib1EtLYlCKY",
        "outputId": "57efdd8d-2541-455f-c762-716a65f4c78b"
      },
      "execution_count": 39,
      "outputs": [
        {
          "output_type": "execute_result",
          "data": {
            "text/plain": [
              "Akshay Kumar        48\n",
              "Amitabh Bachchan    45\n",
              "Ajay Devgn          38\n",
              "Salman Khan         31\n",
              "Sanjay Dutt         26\n",
              "                    ..\n",
              "Diganth              1\n",
              "Parveen Kaur         1\n",
              "Seema Azmi           1\n",
              "Akanksha Puri        1\n",
              "Edwin Fernandes      1\n",
              "Name: lead, Length: 566, dtype: int64"
            ]
          },
          "metadata": {},
          "execution_count": 39
        }
      ]
    },
    {
      "cell_type": "code",
      "source": [
        "#sample is give the random records from the series\n",
        "movie.sample()"
      ],
      "metadata": {
        "colab": {
          "base_uri": "https://localhost:8080/"
        },
        "id": "gqS1-XpElUJw",
        "outputId": "04aadb34-3b89-49a5-bf6e-58373c9678ed"
      },
      "execution_count": 40,
      "outputs": [
        {
          "output_type": "execute_result",
          "data": {
            "text/plain": [
              "movie\n",
              "Goal (2007 Hindi film)    John Abraham\n",
              "Name: lead, dtype: object"
            ]
          },
          "metadata": {},
          "execution_count": 40
        }
      ]
    },
    {
      "cell_type": "code",
      "source": [
        "movie.sample(5)"
      ],
      "metadata": {
        "colab": {
          "base_uri": "https://localhost:8080/"
        },
        "id": "aGF4BWutlhIY",
        "outputId": "0245db67-c891-4d6c-86e6-559c308b9475"
      },
      "execution_count": 41,
      "outputs": [
        {
          "output_type": "execute_result",
          "data": {
            "text/plain": [
              "movie\n",
              "Muskaan                     Aftab Shivdasani\n",
              "Deadline: Sirf 24 Ghante        Rajit Kapoor\n",
              "Sharafat Gayi Tel Lene            Zayed Khan\n",
              "Shart: The Challenge          Tusshar Kapoor\n",
              "My Wife's Murder                 Anil Kapoor\n",
              "Name: lead, dtype: object"
            ]
          },
          "metadata": {},
          "execution_count": 41
        }
      ]
    },
    {
      "cell_type": "code",
      "source": [
        "#sorting the values\n",
        "vk.sort_values()"
      ],
      "metadata": {
        "colab": {
          "base_uri": "https://localhost:8080/"
        },
        "id": "-I2RBBHolkG4",
        "outputId": "80fea277-c9b2-4c20-e570-19b87c9b978f"
      },
      "execution_count": 42,
      "outputs": [
        {
          "output_type": "execute_result",
          "data": {
            "text/plain": [
              "match_no\n",
              "87       0\n",
              "211      0\n",
              "207      0\n",
              "206      0\n",
              "91       0\n",
              "      ... \n",
              "164    100\n",
              "120    100\n",
              "123    108\n",
              "126    109\n",
              "128    113\n",
              "Name: runs, Length: 215, dtype: int64"
            ]
          },
          "metadata": {},
          "execution_count": 42
        }
      ]
    },
    {
      "cell_type": "code",
      "source": [
        "vk.sort_values(ascending=False) #ascending is the parameter for values ascending and descending"
      ],
      "metadata": {
        "colab": {
          "base_uri": "https://localhost:8080/"
        },
        "id": "sdtVzCU4lvzA",
        "outputId": "dbdc6911-e044-4384-ab1e-09310628d165"
      },
      "execution_count": 43,
      "outputs": [
        {
          "output_type": "execute_result",
          "data": {
            "text/plain": [
              "match_no\n",
              "128    113\n",
              "126    109\n",
              "123    108\n",
              "164    100\n",
              "120    100\n",
              "      ... \n",
              "93       0\n",
              "211      0\n",
              "130      0\n",
              "8        0\n",
              "135      0\n",
              "Name: runs, Length: 215, dtype: int64"
            ]
          },
          "metadata": {},
          "execution_count": 43
        }
      ]
    },
    {
      "cell_type": "code",
      "source": [
        "# sort_index\n",
        "vk.sort_index(ascending=False)"
      ],
      "metadata": {
        "colab": {
          "base_uri": "https://localhost:8080/"
        },
        "id": "5o4oDf_Yl-sf",
        "outputId": "dd7cc984-1499-45a9-8514-bc9ce3827f3f"
      },
      "execution_count": 44,
      "outputs": [
        {
          "output_type": "execute_result",
          "data": {
            "text/plain": [
              "match_no\n",
              "215     7\n",
              "214    25\n",
              "213    73\n",
              "212    20\n",
              "211     0\n",
              "       ..\n",
              "5       1\n",
              "4      12\n",
              "3      13\n",
              "2      23\n",
              "1       1\n",
              "Name: runs, Length: 215, dtype: int64"
            ]
          },
          "metadata": {},
          "execution_count": 44
        }
      ]
    },
    {
      "cell_type": "code",
      "source": [
        "#inplace is the, if you want to change you'r orignal series than you can you the inplace parameter\n",
        "vk.sort_index(inplace=True)\n",
        "vk"
      ],
      "metadata": {
        "colab": {
          "base_uri": "https://localhost:8080/"
        },
        "id": "3jeko2mqmsiQ",
        "outputId": "720b29da-980e-416d-deb6-13d9c2b42dda"
      },
      "execution_count": 45,
      "outputs": [
        {
          "output_type": "execute_result",
          "data": {
            "text/plain": [
              "match_no\n",
              "1       1\n",
              "2      23\n",
              "3      13\n",
              "4      12\n",
              "5       1\n",
              "       ..\n",
              "211     0\n",
              "212    20\n",
              "213    73\n",
              "214    25\n",
              "215     7\n",
              "Name: runs, Length: 215, dtype: int64"
            ]
          },
          "metadata": {},
          "execution_count": 45
        }
      ]
    },
    {
      "cell_type": "markdown",
      "source": [
        "# **We can apply the some mathematicla operation on the series**\n",
        "**count(),min(),max(),sum(),var(),median(),std(),mean(),describe()**"
      ],
      "metadata": {
        "id": "6yvQlB8WnSib"
      }
    },
    {
      "cell_type": "code",
      "source": [
        "#count()\n",
        "vk.count()"
      ],
      "metadata": {
        "colab": {
          "base_uri": "https://localhost:8080/"
        },
        "id": "uP3IUN_gnEeJ",
        "outputId": "858aeba9-f5cc-4f1a-8c6c-94e74bb43a25"
      },
      "execution_count": 46,
      "outputs": [
        {
          "output_type": "execute_result",
          "data": {
            "text/plain": [
              "215"
            ]
          },
          "metadata": {},
          "execution_count": 46
        }
      ]
    },
    {
      "cell_type": "code",
      "source": [
        "#min\n",
        "vk.min()"
      ],
      "metadata": {
        "colab": {
          "base_uri": "https://localhost:8080/"
        },
        "id": "Ai0U2WT1na_3",
        "outputId": "2dfaf805-fdce-4058-e14b-8f9a983b38e0"
      },
      "execution_count": 47,
      "outputs": [
        {
          "output_type": "execute_result",
          "data": {
            "text/plain": [
              "0"
            ]
          },
          "metadata": {},
          "execution_count": 47
        }
      ]
    },
    {
      "cell_type": "code",
      "source": [
        "#max()\n",
        "vk.max()"
      ],
      "metadata": {
        "colab": {
          "base_uri": "https://localhost:8080/"
        },
        "id": "A40tPMznoGvw",
        "outputId": "216e0200-198e-487e-dfd0-bb78e34ddb34"
      },
      "execution_count": 48,
      "outputs": [
        {
          "output_type": "execute_result",
          "data": {
            "text/plain": [
              "113"
            ]
          },
          "metadata": {},
          "execution_count": 48
        }
      ]
    },
    {
      "cell_type": "code",
      "source": [
        "vk.sum()"
      ],
      "metadata": {
        "colab": {
          "base_uri": "https://localhost:8080/"
        },
        "id": "IZuFpfd4oKU4",
        "outputId": "ffae41b1-ad3c-4a7a-feee-b368d73a0695"
      },
      "execution_count": 49,
      "outputs": [
        {
          "output_type": "execute_result",
          "data": {
            "text/plain": [
              "6634"
            ]
          },
          "metadata": {},
          "execution_count": 49
        }
      ]
    },
    {
      "cell_type": "code",
      "source": [
        "#mean\n",
        "vk.mean()"
      ],
      "metadata": {
        "colab": {
          "base_uri": "https://localhost:8080/"
        },
        "id": "HojyvDzIoNgo",
        "outputId": "af231684-94ff-4158-fc75-8b4b2815b416"
      },
      "execution_count": 50,
      "outputs": [
        {
          "output_type": "execute_result",
          "data": {
            "text/plain": [
              "30.855813953488372"
            ]
          },
          "metadata": {},
          "execution_count": 50
        }
      ]
    },
    {
      "cell_type": "code",
      "source": [
        "#median\n",
        "vk.median()"
      ],
      "metadata": {
        "colab": {
          "base_uri": "https://localhost:8080/"
        },
        "id": "tpvzdqbnoTYo",
        "outputId": "84233c7c-afb9-4521-9df5-00a38980ec02"
      },
      "execution_count": 51,
      "outputs": [
        {
          "output_type": "execute_result",
          "data": {
            "text/plain": [
              "24.0"
            ]
          },
          "metadata": {},
          "execution_count": 51
        }
      ]
    },
    {
      "cell_type": "code",
      "source": [
        "#std\n",
        "vk.std()"
      ],
      "metadata": {
        "colab": {
          "base_uri": "https://localhost:8080/"
        },
        "id": "ZPq_i6e4oWuA",
        "outputId": "210fbff0-73c2-4c30-d3f1-811a25531ccf"
      },
      "execution_count": 52,
      "outputs": [
        {
          "output_type": "execute_result",
          "data": {
            "text/plain": [
              "26.22980132830278"
            ]
          },
          "metadata": {},
          "execution_count": 52
        }
      ]
    },
    {
      "cell_type": "code",
      "source": [
        "#var\n",
        "vk.var()"
      ],
      "metadata": {
        "colab": {
          "base_uri": "https://localhost:8080/"
        },
        "id": "Vj0DH7gcobkQ",
        "outputId": "77021bc9-fe8b-4570-f93d-a452520383fb"
      },
      "execution_count": 53,
      "outputs": [
        {
          "output_type": "execute_result",
          "data": {
            "text/plain": [
              "688.0024777222343"
            ]
          },
          "metadata": {},
          "execution_count": 53
        }
      ]
    },
    {
      "cell_type": "code",
      "source": [
        "vk.describe()"
      ],
      "metadata": {
        "colab": {
          "base_uri": "https://localhost:8080/"
        },
        "id": "nzHWM4CCofZY",
        "outputId": "a34b66b0-e09c-4272-bfa2-343de3b7d555"
      },
      "execution_count": 54,
      "outputs": [
        {
          "output_type": "execute_result",
          "data": {
            "text/plain": [
              "count    215.000000\n",
              "mean      30.855814\n",
              "std       26.229801\n",
              "min        0.000000\n",
              "25%        9.000000\n",
              "50%       24.000000\n",
              "75%       48.000000\n",
              "max      113.000000\n",
              "Name: runs, dtype: float64"
            ]
          },
          "metadata": {},
          "execution_count": 54
        }
      ]
    },
    {
      "cell_type": "markdown",
      "source": [
        "# **Series indexing**"
      ],
      "metadata": {
        "id": "V8rtOVotokwU"
      }
    },
    {
      "cell_type": "code",
      "source": [
        "vk[5]"
      ],
      "metadata": {
        "colab": {
          "base_uri": "https://localhost:8080/"
        },
        "id": "ZGHEdWerojFQ",
        "outputId": "dd5cfd3e-5244-4df4-a824-f4794e1deeb1"
      },
      "execution_count": 55,
      "outputs": [
        {
          "output_type": "execute_result",
          "data": {
            "text/plain": [
              "1"
            ]
          },
          "metadata": {},
          "execution_count": 55
        }
      ]
    },
    {
      "cell_type": "code",
      "source": [
        "movie[4]"
      ],
      "metadata": {
        "colab": {
          "base_uri": "https://localhost:8080/",
          "height": 35
        },
        "id": "Feyiy49Toql4",
        "outputId": "6ef84e23-1d77-4b1d-a998-733822e37344"
      },
      "execution_count": 56,
      "outputs": [
        {
          "output_type": "execute_result",
          "data": {
            "text/plain": [
              "'Mona Ambegaonkar'"
            ],
            "application/vnd.google.colaboratory.intrinsic+json": {
              "type": "string"
            }
          },
          "metadata": {},
          "execution_count": 56
        }
      ]
    },
    {
      "cell_type": "code",
      "source": [
        "movie[-2]"
      ],
      "metadata": {
        "colab": {
          "base_uri": "https://localhost:8080/",
          "height": 35
        },
        "id": "K8k0u55go4CA",
        "outputId": "de69c199-b1c2-49ba-a963-05ea45802efe"
      },
      "execution_count": 57,
      "outputs": [
        {
          "output_type": "execute_result",
          "data": {
            "text/plain": [
              "'Ajay Devgn'"
            ],
            "application/vnd.google.colaboratory.intrinsic+json": {
              "type": "string"
            }
          },
          "metadata": {},
          "execution_count": 57
        }
      ]
    },
    {
      "cell_type": "code",
      "source": [
        "movie[45]"
      ],
      "metadata": {
        "colab": {
          "base_uri": "https://localhost:8080/",
          "height": 35
        },
        "id": "D6eV1ayqo64w",
        "outputId": "f08d617a-29d6-4f6e-a3c1-e8680effc924"
      },
      "execution_count": 58,
      "outputs": [
        {
          "output_type": "execute_result",
          "data": {
            "text/plain": [
              "'Natalia Janoszek'"
            ],
            "application/vnd.google.colaboratory.intrinsic+json": {
              "type": "string"
            }
          },
          "metadata": {},
          "execution_count": 58
        }
      ]
    },
    {
      "cell_type": "markdown",
      "source": [
        "# **Slicing  Series**"
      ],
      "metadata": {
        "id": "j3YzIkpWpP-x"
      }
    },
    {
      "cell_type": "code",
      "source": [
        "vk[5:16] #we give the index 5 to 15 for slicing"
      ],
      "metadata": {
        "colab": {
          "base_uri": "https://localhost:8080/"
        },
        "id": "08leUksHo934",
        "outputId": "fe991350-cff8-4f56-be7d-0d6817cab3ab"
      },
      "execution_count": 59,
      "outputs": [
        {
          "output_type": "execute_result",
          "data": {
            "text/plain": [
              "match_no\n",
              "6      9\n",
              "7     34\n",
              "8      0\n",
              "9     21\n",
              "10     3\n",
              "11    10\n",
              "12    38\n",
              "13     3\n",
              "14    11\n",
              "15    50\n",
              "16     2\n",
              "Name: runs, dtype: int64"
            ]
          },
          "metadata": {},
          "execution_count": 59
        }
      ]
    },
    {
      "cell_type": "code",
      "source": [
        "## negative slicing\n",
        "vk[-5:]"
      ],
      "metadata": {
        "colab": {
          "base_uri": "https://localhost:8080/"
        },
        "id": "w1CuheyJpUFI",
        "outputId": "cc672ee4-a109-4439-aafd-c27b086eba2c"
      },
      "execution_count": 60,
      "outputs": [
        {
          "output_type": "execute_result",
          "data": {
            "text/plain": [
              "match_no\n",
              "211     0\n",
              "212    20\n",
              "213    73\n",
              "214    25\n",
              "215     7\n",
              "Name: runs, dtype: int64"
            ]
          },
          "metadata": {},
          "execution_count": 60
        }
      ]
    },
    {
      "cell_type": "code",
      "source": [
        "movie[::2] #[start : End : steps]"
      ],
      "metadata": {
        "colab": {
          "base_uri": "https://localhost:8080/"
        },
        "id": "xiHfTmFhpqqI",
        "outputId": "f16996e1-dc15-40e0-e54f-c01b1fdae161"
      },
      "execution_count": 61,
      "outputs": [
        {
          "output_type": "execute_result",
          "data": {
            "text/plain": [
              "movie\n",
              "Uri: The Surgical Strike                   Vicky Kaushal\n",
              "The Accidental Prime Minister (film)         Anupam Kher\n",
              "Evening Shadows                         Mona Ambegaonkar\n",
              "Fraud Saiyaan                               Arshad Warsi\n",
              "Manikarnika: The Queen of Jhansi          Kangana Ranaut\n",
              "                                              ...       \n",
              "Raaz (2002 film)                              Dino Morea\n",
              "Waisa Bhi Hota Hai Part II                  Arshad Warsi\n",
              "Kaante                                  Amitabh Bachchan\n",
              "Aankhen (2002 film)                     Amitabh Bachchan\n",
              "Company (film)                                Ajay Devgn\n",
              "Name: lead, Length: 750, dtype: object"
            ]
          },
          "metadata": {},
          "execution_count": 61
        }
      ]
    },
    {
      "cell_type": "markdown",
      "source": [
        "**Fancy indexing**"
      ],
      "metadata": {
        "id": "ifDiDfdpp2kI"
      }
    },
    {
      "cell_type": "code",
      "source": [
        "vk[[1,7,8,122]]         # in this we give the specific index values"
      ],
      "metadata": {
        "colab": {
          "base_uri": "https://localhost:8080/"
        },
        "id": "LhmO_bzIptoQ",
        "outputId": "6747c04d-9703-4f0c-bdad-ffe460008a1a"
      },
      "execution_count": 62,
      "outputs": [
        {
          "output_type": "execute_result",
          "data": {
            "text/plain": [
              "match_no\n",
              "1       1\n",
              "7      34\n",
              "8       0\n",
              "122    52\n",
              "Name: runs, dtype: int64"
            ]
          },
          "metadata": {},
          "execution_count": 62
        }
      ]
    },
    {
      "cell_type": "code",
      "source": [
        "movie[[4,8,2,155]]"
      ],
      "metadata": {
        "colab": {
          "base_uri": "https://localhost:8080/"
        },
        "id": "6LEdVjvtp5p4",
        "outputId": "df16ce08-e386-4c4a-89e4-84040736c186"
      },
      "execution_count": 63,
      "outputs": [
        {
          "output_type": "execute_result",
          "data": {
            "text/plain": [
              "movie\n",
              "Evening Shadows                         Mona Ambegaonkar\n",
              "Manikarnika: The Queen of Jhansi          Kangana Ranaut\n",
              "The Accidental Prime Minister (film)         Anupam Kher\n",
              "Bhaiaji Superhit                              Sunny Deol\n",
              "Name: lead, dtype: object"
            ]
          },
          "metadata": {},
          "execution_count": 63
        }
      ]
    },
    {
      "cell_type": "markdown",
      "source": [
        "**indexing with labels**"
      ],
      "metadata": {
        "id": "nX9u_aKXqMxI"
      }
    },
    {
      "cell_type": "code",
      "source": [
        "movie[\"Bhaiaji Superhit\"]"
      ],
      "metadata": {
        "colab": {
          "base_uri": "https://localhost:8080/",
          "height": 35
        },
        "id": "xKGi6UQaqJ0n",
        "outputId": "4d2003b7-2666-4ce4-8150-3601da05ce27"
      },
      "execution_count": 64,
      "outputs": [
        {
          "output_type": "execute_result",
          "data": {
            "text/plain": [
              "'Sunny Deol'"
            ],
            "application/vnd.google.colaboratory.intrinsic+json": {
              "type": "string"
            }
          },
          "metadata": {},
          "execution_count": 64
        }
      ]
    },
    {
      "cell_type": "code",
      "source": [
        "movie['Evening Shadows']"
      ],
      "metadata": {
        "colab": {
          "base_uri": "https://localhost:8080/",
          "height": 35
        },
        "id": "-XUJnTidqP2v",
        "outputId": "2320d964-7fe9-4b5e-b301-2932b629fd08"
      },
      "execution_count": 65,
      "outputs": [
        {
          "output_type": "execute_result",
          "data": {
            "text/plain": [
              "'Mona Ambegaonkar'"
            ],
            "application/vnd.google.colaboratory.intrinsic+json": {
              "type": "string"
            }
          },
          "metadata": {},
          "execution_count": 65
        }
      ]
    },
    {
      "cell_type": "markdown",
      "source": [
        "# **Write the Series(Editing Series)**"
      ],
      "metadata": {
        "id": "9LaqKP8gUE8w"
      }
    },
    {
      "cell_type": "code",
      "source": [
        "dic"
      ],
      "metadata": {
        "id": "6xEphZ2RqaFY",
        "colab": {
          "base_uri": "https://localhost:8080/"
        },
        "outputId": "ee58370e-655a-4b21-d7e1-b2a1dde775a4"
      },
      "execution_count": 66,
      "outputs": [
        {
          "output_type": "execute_result",
          "data": {
            "text/plain": [
              "Maths            67\n",
              "English          57\n",
              "Science          89\n",
              "Hindi           100\n",
              "Data Science     96\n",
              "Name: Rohit_Result, dtype: int64"
            ]
          },
          "metadata": {},
          "execution_count": 66
        }
      ]
    },
    {
      "cell_type": "code",
      "source": [
        "# editing the values by using the index\n",
        "dic[0] = 89     #in this we are change the 'maths' vlues 67 to 89 \n",
        "dic"
      ],
      "metadata": {
        "colab": {
          "base_uri": "https://localhost:8080/"
        },
        "id": "302BNOS_UI9U",
        "outputId": "4561ce4a-70bf-4016-ae55-d5b4b2fa2497"
      },
      "execution_count": 69,
      "outputs": [
        {
          "output_type": "execute_result",
          "data": {
            "text/plain": [
              "Maths            89\n",
              "English          57\n",
              "Science          89\n",
              "Hindi           100\n",
              "Data Science     96\n",
              "Name: Rohit_Result, dtype: int64"
            ]
          },
          "metadata": {},
          "execution_count": 69
        }
      ]
    },
    {
      "cell_type": "code",
      "source": [
        "# what if an index does not exist\n",
        "dic['Social Science'] = 45  #if index not present in the series then it is autometcally create new index and value\n",
        "dic "
      ],
      "metadata": {
        "colab": {
          "base_uri": "https://localhost:8080/"
        },
        "id": "OtmK1Hq0aPdk",
        "outputId": "73c8c363-d94e-4c44-c5ae-f6f637b175db"
      },
      "execution_count": 72,
      "outputs": [
        {
          "output_type": "execute_result",
          "data": {
            "text/plain": [
              "Maths              89\n",
              "English            57\n",
              "Science            89\n",
              "Hindi             100\n",
              "Data Science       96\n",
              "Social Science     45\n",
              "Name: Rohit_Result, dtype: int64"
            ]
          },
          "metadata": {},
          "execution_count": 72
        }
      ]
    },
    {
      "cell_type": "code",
      "source": [
        "runs = [44,58,63,82,63,45]\n",
        "run=pd.Series(runs)\n",
        "run"
      ],
      "metadata": {
        "colab": {
          "base_uri": "https://localhost:8080/"
        },
        "id": "6RB0yAdmajUr",
        "outputId": "ea7ae4f0-b511-4092-bc5f-c26bccae042b"
      },
      "execution_count": 73,
      "outputs": [
        {
          "output_type": "execute_result",
          "data": {
            "text/plain": [
              "0    44\n",
              "1    58\n",
              "2    63\n",
              "3    82\n",
              "4    63\n",
              "5    45\n",
              "dtype: int64"
            ]
          },
          "metadata": {},
          "execution_count": 73
        }
      ]
    },
    {
      "cell_type": "markdown",
      "source": [
        "**Slicing**"
      ],
      "metadata": {
        "id": "dmI4AfRhbhkK"
      }
    },
    {
      "cell_type": "code",
      "source": [
        "run[2:4]"
      ],
      "metadata": {
        "colab": {
          "base_uri": "https://localhost:8080/"
        },
        "id": "_ZEOgbCmbWjj",
        "outputId": "2932b129-cd92-4cee-b59d-f7679e39a139"
      },
      "execution_count": 74,
      "outputs": [
        {
          "output_type": "execute_result",
          "data": {
            "text/plain": [
              "2    63\n",
              "3    82\n",
              "dtype: int64"
            ]
          },
          "metadata": {},
          "execution_count": 74
        }
      ]
    },
    {
      "cell_type": "code",
      "source": [
        "run[2:4] = 100\n",
        "run"
      ],
      "metadata": {
        "colab": {
          "base_uri": "https://localhost:8080/"
        },
        "id": "pR99loExblLz",
        "outputId": "b110a536-9574-423b-c988-afe171072047"
      },
      "execution_count": 76,
      "outputs": [
        {
          "output_type": "execute_result",
          "data": {
            "text/plain": [
              "0     44\n",
              "1     58\n",
              "2    100\n",
              "3    100\n",
              "4     63\n",
              "5     45\n",
              "dtype: int64"
            ]
          },
          "metadata": {},
          "execution_count": 76
        }
      ]
    },
    {
      "cell_type": "markdown",
      "source": [
        "**Fancy indexing**"
      ],
      "metadata": {
        "id": "kfEzBxCEbzpj"
      }
    },
    {
      "cell_type": "code",
      "source": [
        "run[[0,2,5]] = [100,100,100]\n",
        "run"
      ],
      "metadata": {
        "colab": {
          "base_uri": "https://localhost:8080/"
        },
        "id": "g5wFBF-hbuZD",
        "outputId": "6c44fb4f-5021-4e0e-ea59-b330589b0b6c"
      },
      "execution_count": 78,
      "outputs": [
        {
          "output_type": "execute_result",
          "data": {
            "text/plain": [
              "0    100\n",
              "1     58\n",
              "2    100\n",
              "3    100\n",
              "4     63\n",
              "5    100\n",
              "dtype: int64"
            ]
          },
          "metadata": {},
          "execution_count": 78
        }
      ]
    },
    {
      "cell_type": "markdown",
      "source": [
        "**Editing the series using index label**"
      ],
      "metadata": {
        "id": "OyJGM8w8cJVJ"
      }
    },
    {
      "cell_type": "code",
      "source": [
        "movie"
      ],
      "metadata": {
        "colab": {
          "base_uri": "https://localhost:8080/"
        },
        "id": "VJNwUjSib26r",
        "outputId": "36f4b1cb-2a04-4820-f995-93a6bb8b4457"
      },
      "execution_count": 79,
      "outputs": [
        {
          "output_type": "execute_result",
          "data": {
            "text/plain": [
              "movie\n",
              "Uri: The Surgical Strike                   Vicky Kaushal\n",
              "Battalion 609                                Vicky Ahuja\n",
              "The Accidental Prime Minister (film)         Anupam Kher\n",
              "Why Cheat India                            Emraan Hashmi\n",
              "Evening Shadows                         Mona Ambegaonkar\n",
              "                                              ...       \n",
              "Hum Tumhare Hain Sanam                    Shah Rukh Khan\n",
              "Aankhen (2002 film)                     Amitabh Bachchan\n",
              "Saathiya (film)                             Vivek Oberoi\n",
              "Company (film)                                Ajay Devgn\n",
              "Awara Paagal Deewana                        Akshay Kumar\n",
              "Name: lead, Length: 1500, dtype: object"
            ]
          },
          "metadata": {},
          "execution_count": 79
        }
      ]
    },
    {
      "cell_type": "code",
      "source": [
        "movie['Uri: The Surgical Strike'] = \"Rohit Verma\"\n",
        "movie                   #first index uri movie value change \n"
      ],
      "metadata": {
        "colab": {
          "base_uri": "https://localhost:8080/"
        },
        "id": "4MPUJ1MOcQh7",
        "outputId": "6408be5d-08a8-49b1-9d5c-cb4ddcd991db"
      },
      "execution_count": 81,
      "outputs": [
        {
          "output_type": "execute_result",
          "data": {
            "text/plain": [
              "movie\n",
              "Uri: The Surgical Strike                     Rohit Verma\n",
              "Battalion 609                                Vicky Ahuja\n",
              "The Accidental Prime Minister (film)         Anupam Kher\n",
              "Why Cheat India                            Emraan Hashmi\n",
              "Evening Shadows                         Mona Ambegaonkar\n",
              "                                              ...       \n",
              "Hum Tumhare Hain Sanam                    Shah Rukh Khan\n",
              "Aankhen (2002 film)                     Amitabh Bachchan\n",
              "Saathiya (film)                             Vivek Oberoi\n",
              "Company (film)                                Ajay Devgn\n",
              "Awara Paagal Deewana                        Akshay Kumar\n",
              "Name: lead, Length: 1500, dtype: object"
            ]
          },
          "metadata": {},
          "execution_count": 81
        }
      ]
    },
    {
      "cell_type": "markdown",
      "source": [
        "## **Series with Python Functionalities**"
      ],
      "metadata": {
        "id": "Mtt_BWpscpkT"
      }
    },
    {
      "cell_type": "markdown",
      "source": [
        "**len,type,dir,sorted,max,min**"
      ],
      "metadata": {
        "id": "1k4phNTTcviU"
      }
    },
    {
      "cell_type": "code",
      "source": [
        "print(len(movie))"
      ],
      "metadata": {
        "colab": {
          "base_uri": "https://localhost:8080/"
        },
        "id": "d0pQFcxucdQa",
        "outputId": "ebdecbd9-8f0a-4d60-b71b-e764195fef1e"
      },
      "execution_count": 83,
      "outputs": [
        {
          "output_type": "stream",
          "name": "stdout",
          "text": [
            "1500\n"
          ]
        }
      ]
    },
    {
      "cell_type": "code",
      "source": [
        "print(type(movie))"
      ],
      "metadata": {
        "colab": {
          "base_uri": "https://localhost:8080/"
        },
        "id": "aNGINbCTctet",
        "outputId": "70ac3dff-0500-45f1-f2d3-89606f7a68fc"
      },
      "execution_count": 84,
      "outputs": [
        {
          "output_type": "stream",
          "name": "stdout",
          "text": [
            "<class 'pandas.core.series.Series'>\n"
          ]
        }
      ]
    },
    {
      "cell_type": "code",
      "source": [
        "print(dir(movie))"
      ],
      "metadata": {
        "id": "zX8s-I_HdCHS"
      },
      "execution_count": null,
      "outputs": []
    },
    {
      "cell_type": "code",
      "source": [
        "print(sorted(movie))"
      ],
      "metadata": {
        "id": "tunRqbtqdF6D"
      },
      "execution_count": null,
      "outputs": []
    },
    {
      "cell_type": "code",
      "source": [
        "print(min(dic))"
      ],
      "metadata": {
        "colab": {
          "base_uri": "https://localhost:8080/"
        },
        "id": "Z9k-S6lqdJND",
        "outputId": "e56b9aee-133c-459c-d8eb-9a28552611c4"
      },
      "execution_count": 90,
      "outputs": [
        {
          "output_type": "stream",
          "name": "stdout",
          "text": [
            "45\n"
          ]
        }
      ]
    },
    {
      "cell_type": "code",
      "source": [
        "print(max(dic))"
      ],
      "metadata": {
        "colab": {
          "base_uri": "https://localhost:8080/"
        },
        "id": "XLM_CRn8dMlC",
        "outputId": "d52d2df0-2702-4536-a4f4-bdc2895d2a39"
      },
      "execution_count": 89,
      "outputs": [
        {
          "output_type": "stream",
          "name": "stdout",
          "text": [
            "100\n"
          ]
        }
      ]
    },
    {
      "cell_type": "markdown",
      "source": [
        "# **Type Conversion**"
      ],
      "metadata": {
        "id": "cjLAbqJKdbF7"
      }
    },
    {
      "cell_type": "code",
      "source": [
        "#we have series dic\n",
        "dic"
      ],
      "metadata": {
        "colab": {
          "base_uri": "https://localhost:8080/"
        },
        "id": "QrccwYAVdPlD",
        "outputId": "f5408aca-9a41-4f3f-9269-98d600dffedd"
      },
      "execution_count": 91,
      "outputs": [
        {
          "output_type": "execute_result",
          "data": {
            "text/plain": [
              "Maths              89\n",
              "English            57\n",
              "Science            89\n",
              "Hindi             100\n",
              "Data Science       96\n",
              "Social Science     45\n",
              "Name: Rohit_Result, dtype: int64"
            ]
          },
          "metadata": {},
          "execution_count": 91
        }
      ]
    },
    {
      "cell_type": "code",
      "source": [
        "#converting this series into list\n",
        "list(dic)"
      ],
      "metadata": {
        "colab": {
          "base_uri": "https://localhost:8080/"
        },
        "id": "nLL19Qgrdfkv",
        "outputId": "6306dbde-1733-4ad7-f25d-6758a06d91a0"
      },
      "execution_count": 92,
      "outputs": [
        {
          "output_type": "execute_result",
          "data": {
            "text/plain": [
              "[89, 57, 89, 100, 96, 45]"
            ]
          },
          "metadata": {},
          "execution_count": 92
        }
      ]
    },
    {
      "cell_type": "code",
      "source": [
        "#converting this series into dic\n",
        "dict(dic)"
      ],
      "metadata": {
        "colab": {
          "base_uri": "https://localhost:8080/"
        },
        "id": "Lmsr7Ikqdu_7",
        "outputId": "519a79fd-4949-43e7-8d0f-80b4423daf6f"
      },
      "execution_count": 93,
      "outputs": [
        {
          "output_type": "execute_result",
          "data": {
            "text/plain": [
              "{'Maths': 89,\n",
              " 'English': 57,\n",
              " 'Science': 89,\n",
              " 'Hindi': 100,\n",
              " 'Data Science': 96,\n",
              " 'Social Science': 45}"
            ]
          },
          "metadata": {},
          "execution_count": 93
        }
      ]
    },
    {
      "cell_type": "markdown",
      "source": [
        "**Membership Operator**"
      ],
      "metadata": {
        "id": "6Y7eyE8nd32S"
      }
    },
    {
      "cell_type": "code",
      "source": [
        "movie"
      ],
      "metadata": {
        "colab": {
          "base_uri": "https://localhost:8080/"
        },
        "id": "nKvpOwNCd2Fj",
        "outputId": "8a564081-ee1e-4669-e703-4bf338d82020"
      },
      "execution_count": 94,
      "outputs": [
        {
          "output_type": "execute_result",
          "data": {
            "text/plain": [
              "movie\n",
              "Uri: The Surgical Strike                     Rohit Verma\n",
              "Battalion 609                                Vicky Ahuja\n",
              "The Accidental Prime Minister (film)         Anupam Kher\n",
              "Why Cheat India                            Emraan Hashmi\n",
              "Evening Shadows                         Mona Ambegaonkar\n",
              "                                              ...       \n",
              "Hum Tumhare Hain Sanam                    Shah Rukh Khan\n",
              "Aankhen (2002 film)                     Amitabh Bachchan\n",
              "Saathiya (film)                             Vivek Oberoi\n",
              "Company (film)                                Ajay Devgn\n",
              "Awara Paagal Deewana                        Akshay Kumar\n",
              "Name: lead, Length: 1500, dtype: object"
            ]
          },
          "metadata": {},
          "execution_count": 94
        }
      ]
    },
    {
      "cell_type": "code",
      "source": [
        "\"Uri: The Surgical Strike\"  in  movie #if the value present in the series it give the 'True' other \"False\""
      ],
      "metadata": {
        "colab": {
          "base_uri": "https://localhost:8080/"
        },
        "id": "mK7r8GLZd9ND",
        "outputId": "92e8ab54-9dc4-4a2a-cd1e-a8df5f61b5a6"
      },
      "execution_count": 97,
      "outputs": [
        {
          "output_type": "execute_result",
          "data": {
            "text/plain": [
              "True"
            ]
          },
          "metadata": {},
          "execution_count": 97
        }
      ]
    },
    {
      "cell_type": "code",
      "source": [
        "\"Radhe\"  in movie #because radhe movie not present in the movie series"
      ],
      "metadata": {
        "colab": {
          "base_uri": "https://localhost:8080/"
        },
        "id": "ZoboEdjteD2s",
        "outputId": "63cb22b4-7547-47eb-a604-5a809a171ba0"
      },
      "execution_count": 99,
      "outputs": [
        {
          "output_type": "execute_result",
          "data": {
            "text/plain": [
              "False"
            ]
          },
          "metadata": {},
          "execution_count": 99
        }
      ]
    },
    {
      "cell_type": "code",
      "source": [
        "#looping\n",
        "for i in movie:\n",
        "  print(i)"
      ],
      "metadata": {
        "id": "xU_qVSETeuw7"
      },
      "execution_count": null,
      "outputs": []
    },
    {
      "cell_type": "markdown",
      "source": [
        "# **Arithmetic operator use in the series**"
      ],
      "metadata": {
        "id": "XjYM6Q1cfCso"
      }
    },
    {
      "cell_type": "code",
      "source": [
        "dic"
      ],
      "metadata": {
        "colab": {
          "base_uri": "https://localhost:8080/"
        },
        "id": "BidIHTmJfIEr",
        "outputId": "987a7527-1160-4c05-f4ee-cd2ebe82c1e7"
      },
      "execution_count": 103,
      "outputs": [
        {
          "output_type": "execute_result",
          "data": {
            "text/plain": [
              "Maths              89\n",
              "English            57\n",
              "Science            89\n",
              "Hindi             100\n",
              "Data Science       96\n",
              "Social Science     45\n",
              "Name: Rohit_Result, dtype: int64"
            ]
          },
          "metadata": {},
          "execution_count": 103
        }
      ]
    },
    {
      "cell_type": "code",
      "source": [
        "#addistion\n",
        "100 + dic"
      ],
      "metadata": {
        "colab": {
          "base_uri": "https://localhost:8080/"
        },
        "id": "NmWTbrMNe9eU",
        "outputId": "a88b6c1f-37df-423f-ee11-c1bac2e6f224"
      },
      "execution_count": 104,
      "outputs": [
        {
          "output_type": "execute_result",
          "data": {
            "text/plain": [
              "Maths             189\n",
              "English           157\n",
              "Science           189\n",
              "Hindi             200\n",
              "Data Science      196\n",
              "Social Science    145\n",
              "Name: Rohit_Result, dtype: int64"
            ]
          },
          "metadata": {},
          "execution_count": 104
        }
      ]
    },
    {
      "cell_type": "code",
      "source": [
        "vk"
      ],
      "metadata": {
        "colab": {
          "base_uri": "https://localhost:8080/"
        },
        "id": "mDgs9HLRfWNc",
        "outputId": "4856e029-d730-4218-f885-bf2a63564406"
      },
      "execution_count": 107,
      "outputs": [
        {
          "output_type": "execute_result",
          "data": {
            "text/plain": [
              "match_no\n",
              "1       1\n",
              "2      23\n",
              "3      13\n",
              "4      12\n",
              "5       1\n",
              "       ..\n",
              "211     0\n",
              "212    20\n",
              "213    73\n",
              "214    25\n",
              "215     7\n",
              "Name: runs, Length: 215, dtype: int64"
            ]
          },
          "metadata": {},
          "execution_count": 107
        }
      ]
    },
    {
      "cell_type": "code",
      "source": [
        "#Relastional operator\n",
        "vk >=50"
      ],
      "metadata": {
        "colab": {
          "base_uri": "https://localhost:8080/"
        },
        "id": "MV1ycbzqfTK7",
        "outputId": "79c30813-b8fe-4c4d-cf07-fc6d501bb186"
      },
      "execution_count": 108,
      "outputs": [
        {
          "output_type": "execute_result",
          "data": {
            "text/plain": [
              "match_no\n",
              "1      False\n",
              "2      False\n",
              "3      False\n",
              "4      False\n",
              "5      False\n",
              "       ...  \n",
              "211    False\n",
              "212    False\n",
              "213     True\n",
              "214    False\n",
              "215    False\n",
              "Name: runs, Length: 215, dtype: bool"
            ]
          },
          "metadata": {},
          "execution_count": 108
        }
      ]
    },
    {
      "cell_type": "markdown",
      "source": [
        "# **Boolean Indexing on Series**"
      ],
      "metadata": {
        "id": "iXJN70L9f642"
      }
    },
    {
      "cell_type": "code",
      "source": [
        "# Find no of 50's and 100's scored by kohli\n",
        "vk[vk >= 50].size"
      ],
      "metadata": {
        "colab": {
          "base_uri": "https://localhost:8080/"
        },
        "id": "o7zs-IBpfnlK",
        "outputId": "ce0e3f76-1fc4-4388-c3a6-d5a2fd13cf73"
      },
      "execution_count": 109,
      "outputs": [
        {
          "output_type": "execute_result",
          "data": {
            "text/plain": [
              "50"
            ]
          },
          "metadata": {},
          "execution_count": 109
        }
      ]
    },
    {
      "cell_type": "code",
      "source": [
        "#find the number of match which in 0 run\n",
        "vk[vk ==0].size"
      ],
      "metadata": {
        "colab": {
          "base_uri": "https://localhost:8080/"
        },
        "id": "O1LfdwUTf_pT",
        "outputId": "8485fb40-9326-45f5-c5e5-c95ad653e85c"
      },
      "execution_count": 112,
      "outputs": [
        {
          "output_type": "execute_result",
          "data": {
            "text/plain": [
              "9"
            ]
          },
          "metadata": {},
          "execution_count": 112
        }
      ]
    },
    {
      "cell_type": "code",
      "source": [
        "# Count number of match when virat run more than 90 run\n",
        "vk[vk > 90].size"
      ],
      "metadata": {
        "colab": {
          "base_uri": "https://localhost:8080/"
        },
        "id": "YhgC8pRzgSfi",
        "outputId": "c84484e7-4b40-4e45-fef8-9bf166d8c8d8"
      },
      "execution_count": 114,
      "outputs": [
        {
          "output_type": "execute_result",
          "data": {
            "text/plain": [
              "8"
            ]
          },
          "metadata": {},
          "execution_count": 114
        }
      ]
    },
    {
      "cell_type": "code",
      "source": [
        "# find actors who have done more than 20 movies\n",
        "movie_count=movie.value_counts()\n",
        "movie_count"
      ],
      "metadata": {
        "colab": {
          "base_uri": "https://localhost:8080/"
        },
        "id": "9OJs84aCgnVj",
        "outputId": "2514c20b-4da0-45a1-a815-c7d7b9b408f1"
      },
      "execution_count": 117,
      "outputs": [
        {
          "output_type": "execute_result",
          "data": {
            "text/plain": [
              "Akshay Kumar        48\n",
              "Amitabh Bachchan    45\n",
              "Ajay Devgn          38\n",
              "Salman Khan         31\n",
              "Sanjay Dutt         26\n",
              "                    ..\n",
              "Diganth              1\n",
              "Parveen Kaur         1\n",
              "Seema Azmi           1\n",
              "Akanksha Puri        1\n",
              "Edwin Fernandes      1\n",
              "Name: lead, Length: 567, dtype: int64"
            ]
          },
          "metadata": {},
          "execution_count": 117
        }
      ]
    },
    {
      "cell_type": "code",
      "source": [
        "movie_count[movie_count > 20]"
      ],
      "metadata": {
        "colab": {
          "base_uri": "https://localhost:8080/"
        },
        "id": "QllVUwb3g7dK",
        "outputId": "3fe35778-701a-44e8-a708-450cfeee05dd"
      },
      "execution_count": 118,
      "outputs": [
        {
          "output_type": "execute_result",
          "data": {
            "text/plain": [
              "Akshay Kumar        48\n",
              "Amitabh Bachchan    45\n",
              "Ajay Devgn          38\n",
              "Salman Khan         31\n",
              "Sanjay Dutt         26\n",
              "Shah Rukh Khan      22\n",
              "Emraan Hashmi       21\n",
              "Name: lead, dtype: int64"
            ]
          },
          "metadata": {},
          "execution_count": 118
        }
      ]
    },
    {
      "cell_type": "markdown",
      "source": [
        "# **Plotting Graphs on Series**"
      ],
      "metadata": {
        "id": "m2EykB9EhWZg"
      }
    },
    {
      "cell_type": "markdown",
      "source": [
        "**Using the plot()**"
      ],
      "metadata": {
        "id": "uweVP_50h_m-"
      }
    },
    {
      "cell_type": "code",
      "source": [
        "vk.plot()"
      ],
      "metadata": {
        "colab": {
          "base_uri": "https://localhost:8080/",
          "height": 297
        },
        "id": "R6wI2xJZhAZa",
        "outputId": "68ad8433-a5e2-475b-b152-1cb39613d245"
      },
      "execution_count": 120,
      "outputs": [
        {
          "output_type": "execute_result",
          "data": {
            "text/plain": [
              "<matplotlib.axes._subplots.AxesSubplot at 0x7ff45449df10>"
            ]
          },
          "metadata": {},
          "execution_count": 120
        },
        {
          "output_type": "display_data",
          "data": {
            "text/plain": [
              "<Figure size 432x288 with 1 Axes>"
            ],
            "image/png": "[encoded data removed]"
          },
          "metadata": {
            "needs_background": "light"
          }
        }
      ]
    },
    {
      "cell_type": "code",
      "source": [
        "vk.max()"
      ],
      "metadata": {
        "colab": {
          "base_uri": "https://localhost:8080/"
        },
        "id": "x5MIJrbDhY87",
        "outputId": "b9160607-e100-4c03-9ca8-7b48c0740c90"
      },
      "execution_count": 124,
      "outputs": [
        {
          "output_type": "execute_result",
          "data": {
            "text/plain": [
              "113"
            ]
          },
          "metadata": {},
          "execution_count": 124
        }
      ]
    },
    {
      "cell_type": "markdown",
      "source": [
        "# **ploting the  pie chart on the series**"
      ],
      "metadata": {
        "id": "2xi_ZwCth4Eo"
      }
    },
    {
      "cell_type": "code",
      "source": [
        "movie.value_counts().head(10).plot(kind=\"pie\")  #using the 'kind' parameter"
      ],
      "metadata": {
        "colab": {
          "base_uri": "https://localhost:8080/",
          "height": 265
        },
        "id": "AgFdatsHhijL",
        "outputId": "fd773306-bb15-46f9-821e-bf0ff64b2b23"
      },
      "execution_count": 127,
      "outputs": [
        {
          "output_type": "execute_result",
          "data": {
            "text/plain": [
              "<matplotlib.axes._subplots.AxesSubplot at 0x7ff453eb06a0>"
            ]
          },
          "metadata": {},
          "execution_count": 127
        },
        {
          "output_type": "display_data",
          "data": {
            "text/plain": [
              "<Figure size 432x288 with 1 Axes>"
            ],
            "image/png": "[encoded data removed]"
          },
          "metadata": {}
        }
      ]
    },
    {
      "cell_type": "markdown",
      "source": [
        "# **Some important mathod of a Series**\n",
        "**astype,between,clip,drop_duplicates,isnull,dropna,fillna,isin,apply,copy**"
      ],
      "metadata": {
        "id": "m_A51N9piVYb"
      }
    },
    {
      "cell_type": "code",
      "source": [
        "# astype\n",
        "import sys\n",
        "sys.getsizeof(vk)"
      ],
      "metadata": {
        "colab": {
          "base_uri": "https://localhost:8080/"
        },
        "id": "lyeSr1XVhzty",
        "outputId": "6124fd14-d63a-42e7-a1d6-8c22d7785c6a"
      },
      "execution_count": 129,
      "outputs": [
        {
          "output_type": "execute_result",
          "data": {
            "text/plain": [
              "11752"
            ]
          },
          "metadata": {},
          "execution_count": 129
        }
      ]
    },
    {
      "cell_type": "code",
      "source": [
        "sys.getsizeof(vk.astype('int16'))"
      ],
      "metadata": {
        "colab": {
          "base_uri": "https://localhost:8080/"
        },
        "id": "0RvIGxzOh7_q",
        "outputId": "6cee0e0b-b17b-44d6-e037-6bee7395022e"
      },
      "execution_count": 130,
      "outputs": [
        {
          "output_type": "execute_result",
          "data": {
            "text/plain": [
              "10462"
            ]
          },
          "metadata": {},
          "execution_count": 130
        }
      ]
    },
    {
      "cell_type": "code",
      "source": [
        "# between\n",
        "vk[vk.between(51,99)].size"
      ],
      "metadata": {
        "colab": {
          "base_uri": "https://localhost:8080/"
        },
        "id": "Ch7hGXGPi3yb",
        "outputId": "1b519a0e-c2ad-441b-f355-a44e71c22691"
      },
      "execution_count": 131,
      "outputs": [
        {
          "output_type": "execute_result",
          "data": {
            "text/plain": [
              "43"
            ]
          },
          "metadata": {},
          "execution_count": 131
        }
      ]
    },
    {
      "cell_type": "markdown",
      "source": [
        "**get the vlaue between 100 to 200 using clip method**"
      ],
      "metadata": {
        "id": "gEkYzW6qjZct"
      }
    },
    {
      "cell_type": "code",
      "source": [
        "# clip\n",
        "vk"
      ],
      "metadata": {
        "colab": {
          "base_uri": "https://localhost:8080/"
        },
        "id": "DojN2NCVi97y",
        "outputId": "14b6ba4f-78c3-473c-d88b-a744065d5716"
      },
      "execution_count": 132,
      "outputs": [
        {
          "output_type": "execute_result",
          "data": {
            "text/plain": [
              "match_no\n",
              "1       1\n",
              "2      23\n",
              "3      13\n",
              "4      12\n",
              "5       1\n",
              "       ..\n",
              "211     0\n",
              "212    20\n",
              "213    73\n",
              "214    25\n",
              "215     7\n",
              "Name: runs, Length: 215, dtype: int64"
            ]
          },
          "metadata": {},
          "execution_count": 132
        }
      ]
    },
    {
      "cell_type": "code",
      "source": [
        "vk.clip(100,200) #get the vlaue between 100 to 200"
      ],
      "metadata": {
        "colab": {
          "base_uri": "https://localhost:8080/"
        },
        "id": "h-_eYwDfjB0r",
        "outputId": "915af96c-1a56-47a2-f0fd-d3a4376c9d1a"
      },
      "execution_count": 134,
      "outputs": [
        {
          "output_type": "execute_result",
          "data": {
            "text/plain": [
              "match_no\n",
              "1      100\n",
              "2      100\n",
              "3      100\n",
              "4      100\n",
              "5      100\n",
              "      ... \n",
              "211    100\n",
              "212    100\n",
              "213    100\n",
              "214    100\n",
              "215    100\n",
              "Name: runs, Length: 215, dtype: int64"
            ]
          },
          "metadata": {},
          "execution_count": 134
        }
      ]
    },
    {
      "cell_type": "markdown",
      "source": [
        "**drop_duplicates**"
      ],
      "metadata": {
        "id": "sEs5jAMajPMb"
      }
    },
    {
      "cell_type": "code",
      "source": [
        "# drop_duplicates\n",
        "import numpy as np\n",
        "temp = pd.Series([1,1,2,2,3,3,4,4])\n",
        "temp"
      ],
      "metadata": {
        "colab": {
          "base_uri": "https://localhost:8080/"
        },
        "id": "uTh3KJ1wjGt6",
        "outputId": "2361fef9-55b8-4d9f-ceed-fdac35aec39e"
      },
      "execution_count": 142,
      "outputs": [
        {
          "output_type": "execute_result",
          "data": {
            "text/plain": [
              "0    1\n",
              "1    1\n",
              "2    2\n",
              "3    2\n",
              "4    3\n",
              "5    3\n",
              "6    4\n",
              "7    4\n",
              "dtype: int64"
            ]
          },
          "metadata": {},
          "execution_count": 142
        }
      ]
    },
    {
      "cell_type": "code",
      "source": [
        "temp.drop_duplicates(keep='last')"
      ],
      "metadata": {
        "colab": {
          "base_uri": "https://localhost:8080/"
        },
        "id": "NveEIMidjQ9L",
        "outputId": "604c5ca7-c68d-41d4-d19d-66ed8105127d"
      },
      "execution_count": 136,
      "outputs": [
        {
          "output_type": "execute_result",
          "data": {
            "text/plain": [
              "1    1\n",
              "3    2\n",
              "5    3\n",
              "7    4\n",
              "dtype: int64"
            ]
          },
          "metadata": {},
          "execution_count": 136
        }
      ]
    },
    {
      "cell_type": "code",
      "source": [
        "temp.duplicated().sum()"
      ],
      "metadata": {
        "colab": {
          "base_uri": "https://localhost:8080/"
        },
        "id": "7difXQxLjmaC",
        "outputId": "8a146aff-59d8-428d-d4b7-f98d69d7704e"
      },
      "execution_count": 137,
      "outputs": [
        {
          "output_type": "execute_result",
          "data": {
            "text/plain": [
              "4"
            ]
          },
          "metadata": {},
          "execution_count": 137
        }
      ]
    },
    {
      "cell_type": "code",
      "source": [
        "vk.duplicated().sum()"
      ],
      "metadata": {
        "colab": {
          "base_uri": "https://localhost:8080/"
        },
        "id": "r3yQeJhYjpca",
        "outputId": "68a5abb7-6e96-4496-ae2f-95a353e7ae71"
      },
      "execution_count": 138,
      "outputs": [
        {
          "output_type": "execute_result",
          "data": {
            "text/plain": [
              "137"
            ]
          },
          "metadata": {},
          "execution_count": 138
        }
      ]
    },
    {
      "cell_type": "code",
      "source": [
        "movie.drop_duplicates()"
      ],
      "metadata": {
        "colab": {
          "base_uri": "https://localhost:8080/"
        },
        "id": "C4XF-WcKjteC",
        "outputId": "d620e19e-655d-47ba-c9a0-24ea52346493"
      },
      "execution_count": 140,
      "outputs": [
        {
          "output_type": "execute_result",
          "data": {
            "text/plain": [
              "movie\n",
              "Uri: The Surgical Strike                     Rohit Verma\n",
              "Battalion 609                                Vicky Ahuja\n",
              "The Accidental Prime Minister (film)         Anupam Kher\n",
              "Why Cheat India                            Emraan Hashmi\n",
              "Evening Shadows                         Mona Ambegaonkar\n",
              "                                              ...       \n",
              "Sssshhh...                              Tanishaa Mukerji\n",
              "Rules: Pyaar Ka Superhit Formula                  Tanuja\n",
              "Right Here Right Now (film)                        Ankit\n",
              "Talaash: The Hunt Begins...                Rakhee Gulzar\n",
              "The Pink Mirror                          Edwin Fernandes\n",
              "Name: lead, Length: 567, dtype: object"
            ]
          },
          "metadata": {},
          "execution_count": 140
        }
      ]
    },
    {
      "cell_type": "code",
      "source": [
        "temp = pd.Series([1,2,3,np.nan,5,6,np.nan,8,np.nan,10])\n",
        "temp"
      ],
      "metadata": {
        "colab": {
          "base_uri": "https://localhost:8080/"
        },
        "id": "6Ig9Vl9BjwYj",
        "outputId": "2d92cd7b-00f5-45a7-856c-e4e8bbd67c8d"
      },
      "execution_count": 143,
      "outputs": [
        {
          "output_type": "execute_result",
          "data": {
            "text/plain": [
              "0     1.0\n",
              "1     2.0\n",
              "2     3.0\n",
              "3     NaN\n",
              "4     5.0\n",
              "5     6.0\n",
              "6     NaN\n",
              "7     8.0\n",
              "8     NaN\n",
              "9    10.0\n",
              "dtype: float64"
            ]
          },
          "metadata": {},
          "execution_count": 143
        }
      ]
    },
    {
      "cell_type": "code",
      "source": [
        "temp.size"
      ],
      "metadata": {
        "colab": {
          "base_uri": "https://localhost:8080/"
        },
        "id": "anIwIjaej0Rr",
        "outputId": "419e3482-b069-409b-e60b-3de6a4f8801e"
      },
      "execution_count": 144,
      "outputs": [
        {
          "output_type": "execute_result",
          "data": {
            "text/plain": [
              "10"
            ]
          },
          "metadata": {},
          "execution_count": 144
        }
      ]
    },
    {
      "cell_type": "code",
      "source": [
        "temp.count()"
      ],
      "metadata": {
        "colab": {
          "base_uri": "https://localhost:8080/"
        },
        "id": "hSpbwDQKkCha",
        "outputId": "e62e85e5-1d72-4b84-92c2-11e24cf4d25a"
      },
      "execution_count": 145,
      "outputs": [
        {
          "output_type": "execute_result",
          "data": {
            "text/plain": [
              "7"
            ]
          },
          "metadata": {},
          "execution_count": 145
        }
      ]
    },
    {
      "cell_type": "markdown",
      "source": [
        "**isnull**"
      ],
      "metadata": {
        "id": "q1b9VjR5kGGQ"
      }
    },
    {
      "cell_type": "code",
      "source": [
        "temp.isnull().sum()"
      ],
      "metadata": {
        "colab": {
          "base_uri": "https://localhost:8080/"
        },
        "id": "2fKBlQoakEAb",
        "outputId": "e5946921-d953-48af-c03a-9e2ab39deec4"
      },
      "execution_count": 146,
      "outputs": [
        {
          "output_type": "execute_result",
          "data": {
            "text/plain": [
              "3"
            ]
          },
          "metadata": {},
          "execution_count": 146
        }
      ]
    },
    {
      "cell_type": "markdown",
      "source": [
        "**dropna()**"
      ],
      "metadata": {
        "id": "RAEe5nRjkMZ_"
      }
    },
    {
      "cell_type": "code",
      "source": [
        "temp.dropna()"
      ],
      "metadata": {
        "colab": {
          "base_uri": "https://localhost:8080/"
        },
        "id": "0HyDxarTkI5C",
        "outputId": "330e6b4a-1c81-47b8-9701-9097e38d9076"
      },
      "execution_count": 147,
      "outputs": [
        {
          "output_type": "execute_result",
          "data": {
            "text/plain": [
              "0     1.0\n",
              "1     2.0\n",
              "2     3.0\n",
              "4     5.0\n",
              "5     6.0\n",
              "7     8.0\n",
              "9    10.0\n",
              "dtype: float64"
            ]
          },
          "metadata": {},
          "execution_count": 147
        }
      ]
    },
    {
      "cell_type": "markdown",
      "source": [
        "**fillna()**"
      ],
      "metadata": {
        "id": "UsMi8oVdkTNn"
      }
    },
    {
      "cell_type": "code",
      "source": [
        "temp.fillna(temp.mean())"
      ],
      "metadata": {
        "colab": {
          "base_uri": "https://localhost:8080/"
        },
        "id": "2ZZMqZ3skPMT",
        "outputId": "3be1d492-9f8e-43d4-f351-20aaf45a0504"
      },
      "execution_count": 148,
      "outputs": [
        {
          "output_type": "execute_result",
          "data": {
            "text/plain": [
              "0     1.0\n",
              "1     2.0\n",
              "2     3.0\n",
              "3     5.0\n",
              "4     5.0\n",
              "5     6.0\n",
              "6     5.0\n",
              "7     8.0\n",
              "8     5.0\n",
              "9    10.0\n",
              "dtype: float64"
            ]
          },
          "metadata": {},
          "execution_count": 148
        }
      ]
    },
    {
      "cell_type": "markdown",
      "source": [
        "**isin**"
      ],
      "metadata": {
        "id": "JZfRZnsSka0h"
      }
    },
    {
      "cell_type": "code",
      "source": [
        "vk[(vk == 49) | (vk == 99)]"
      ],
      "metadata": {
        "colab": {
          "base_uri": "https://localhost:8080/"
        },
        "id": "ffsQw7pVkVcS",
        "outputId": "0d4fb405-3eb2-46be-b188-28adeb4f1c95"
      },
      "execution_count": 149,
      "outputs": [
        {
          "output_type": "execute_result",
          "data": {
            "text/plain": [
              "match_no\n",
              "82    99\n",
              "86    49\n",
              "Name: runs, dtype: int64"
            ]
          },
          "metadata": {},
          "execution_count": 149
        }
      ]
    },
    {
      "cell_type": "code",
      "source": [
        "movie"
      ],
      "metadata": {
        "colab": {
          "base_uri": "https://localhost:8080/"
        },
        "id": "NHEpVoyokclz",
        "outputId": "cb49449e-a4b6-4837-9f5a-2a39c9790a1c"
      },
      "execution_count": 150,
      "outputs": [
        {
          "output_type": "execute_result",
          "data": {
            "text/plain": [
              "movie\n",
              "Uri: The Surgical Strike                     Rohit Verma\n",
              "Battalion 609                                Vicky Ahuja\n",
              "The Accidental Prime Minister (film)         Anupam Kher\n",
              "Why Cheat India                            Emraan Hashmi\n",
              "Evening Shadows                         Mona Ambegaonkar\n",
              "                                              ...       \n",
              "Hum Tumhare Hain Sanam                    Shah Rukh Khan\n",
              "Aankhen (2002 film)                     Amitabh Bachchan\n",
              "Saathiya (film)                             Vivek Oberoi\n",
              "Company (film)                                Ajay Devgn\n",
              "Awara Paagal Deewana                        Akshay Kumar\n",
              "Name: lead, Length: 1500, dtype: object"
            ]
          },
          "metadata": {},
          "execution_count": 150
        }
      ]
    },
    {
      "cell_type": "code",
      "source": [
        "movie[(movie=='Vicky Ahuja') | (movie==\"Vivek Oberoi\")]"
      ],
      "metadata": {
        "colab": {
          "base_uri": "https://localhost:8080/"
        },
        "id": "3Nm5tDdIkpX6",
        "outputId": "6c7383a2-947d-4662-9391-fe0ee7bcaee2"
      },
      "execution_count": 152,
      "outputs": [
        {
          "output_type": "execute_result",
          "data": {
            "text/plain": [
              "movie\n",
              "Battalion 609                Vicky Ahuja\n",
              "Zila Ghaziabad              Vivek Oberoi\n",
              "Jayantabhai Ki Luv Story    Vivek Oberoi\n",
              "Grand Masti                 Vivek Oberoi\n",
              "Kismat Love Paisa Dilli     Vivek Oberoi\n",
              "1920: The Evil Returns       Vicky Ahuja\n",
              "Prince (2010 film)          Vivek Oberoi\n",
              "Mission Istaanbul           Vivek Oberoi\n",
              "Home Delivery               Vivek Oberoi\n",
              "Kisna: The Warrior Poet     Vivek Oberoi\n",
              "Vaastu Shastra (film)        Vicky Ahuja\n",
              "Dum (2003 Hindi film)       Vivek Oberoi\n",
              "Saathiya (film)             Vivek Oberoi\n",
              "Name: lead, dtype: object"
            ]
          },
          "metadata": {},
          "execution_count": 152
        }
      ]
    },
    {
      "cell_type": "code",
      "source": [
        "movie[movie.isin(['Emraan Hashmi','Akshay Kumar'])]"
      ],
      "metadata": {
        "colab": {
          "base_uri": "https://localhost:8080/"
        },
        "id": "H5mBNR2Uk4-S",
        "outputId": "f476b70f-4209-4475-8388-6fcf6291325c"
      },
      "execution_count": 155,
      "outputs": [
        {
          "output_type": "execute_result",
          "data": {
            "text/plain": [
              "movie\n",
              "Why Cheat India                    Emraan Hashmi\n",
              "Kesari (film)                       Akshay Kumar\n",
              "Mission Mangal                      Akshay Kumar\n",
              "Housefull 4                         Akshay Kumar\n",
              "Good Newwz                          Akshay Kumar\n",
              "                                       ...      \n",
              "Police Force: An Inside Story       Akshay Kumar\n",
              "Tumsa Nahin Dekha: A Love Story    Emraan Hashmi\n",
              "Andaaz                              Akshay Kumar\n",
              "Andaaz                              Akshay Kumar\n",
              "Awara Paagal Deewana                Akshay Kumar\n",
              "Name: lead, Length: 69, dtype: object"
            ]
          },
          "metadata": {},
          "execution_count": 155
        }
      ]
    },
    {
      "cell_type": "code",
      "source": [
        "movie[movie.isin(['Emraan Hashmi','Akshay Kumar'])].count()"
      ],
      "metadata": {
        "colab": {
          "base_uri": "https://localhost:8080/"
        },
        "id": "oA9q_JnClH66",
        "outputId": "5b7533ba-06c8-45ed-c415-8775bba253d3"
      },
      "execution_count": 156,
      "outputs": [
        {
          "output_type": "execute_result",
          "data": {
            "text/plain": [
              "69"
            ]
          },
          "metadata": {},
          "execution_count": 156
        }
      ]
    },
    {
      "cell_type": "markdown",
      "source": [
        "**copy**"
      ],
      "metadata": {
        "id": "x7WzDuAGlYtE"
      }
    },
    {
      "cell_type": "code",
      "source": [
        "movie"
      ],
      "metadata": {
        "colab": {
          "base_uri": "https://localhost:8080/"
        },
        "id": "rkyibzI4lWHz",
        "outputId": "a2d83348-f895-4ac8-e8fb-bd8327285f53"
      },
      "execution_count": 157,
      "outputs": [
        {
          "output_type": "execute_result",
          "data": {
            "text/plain": [
              "movie\n",
              "Uri: The Surgical Strike                     Rohit Verma\n",
              "Battalion 609                                Vicky Ahuja\n",
              "The Accidental Prime Minister (film)         Anupam Kher\n",
              "Why Cheat India                            Emraan Hashmi\n",
              "Evening Shadows                         Mona Ambegaonkar\n",
              "                                              ...       \n",
              "Hum Tumhare Hain Sanam                    Shah Rukh Khan\n",
              "Aankhen (2002 film)                     Amitabh Bachchan\n",
              "Saathiya (film)                             Vivek Oberoi\n",
              "Company (film)                                Ajay Devgn\n",
              "Awara Paagal Deewana                        Akshay Kumar\n",
              "Name: lead, Length: 1500, dtype: object"
            ]
          },
          "metadata": {},
          "execution_count": 157
        }
      ]
    },
    {
      "cell_type": "code",
      "source": [
        "new_movie = movie.head()"
      ],
      "metadata": {
        "id": "PRjevIU5laq6"
      },
      "execution_count": 158,
      "outputs": []
    },
    {
      "cell_type": "code",
      "source": [
        "new_movie"
      ],
      "metadata": {
        "colab": {
          "base_uri": "https://localhost:8080/"
        },
        "id": "9PC37CoklmOy",
        "outputId": "c81c573d-681d-4466-e7ea-f36aa20a6932"
      },
      "execution_count": 159,
      "outputs": [
        {
          "output_type": "execute_result",
          "data": {
            "text/plain": [
              "movie\n",
              "Uri: The Surgical Strike                     Rohit Verma\n",
              "Battalion 609                                Vicky Ahuja\n",
              "The Accidental Prime Minister (film)         Anupam Kher\n",
              "Why Cheat India                            Emraan Hashmi\n",
              "Evening Shadows                         Mona Ambegaonkar\n",
              "Name: lead, dtype: object"
            ]
          },
          "metadata": {},
          "execution_count": 159
        }
      ]
    },
    {
      "cell_type": "code",
      "source": [
        "new_movie[1] = \"Om Shanti Om\""
      ],
      "metadata": {
        "id": "gbXxM65plnwz"
      },
      "execution_count": 160,
      "outputs": []
    },
    {
      "cell_type": "code",
      "source": [
        "new_movie = movie.head().copy()"
      ],
      "metadata": {
        "id": "XKMrCow_lw-T"
      },
      "execution_count": 162,
      "outputs": []
    },
    {
      "cell_type": "code",
      "source": [
        "new_movie"
      ],
      "metadata": {
        "colab": {
          "base_uri": "https://localhost:8080/"
        },
        "id": "VmHGYLRgl54i",
        "outputId": "fdc5a48f-7fd5-47b3-d96a-3804a1ac480f"
      },
      "execution_count": 163,
      "outputs": [
        {
          "output_type": "execute_result",
          "data": {
            "text/plain": [
              "movie\n",
              "Uri: The Surgical Strike                     Rohit Verma\n",
              "Battalion 609                               Om Shanti Om\n",
              "The Accidental Prime Minister (film)         Anupam Kher\n",
              "Why Cheat India                            Emraan Hashmi\n",
              "Evening Shadows                         Mona Ambegaonkar\n",
              "Name: lead, dtype: object"
            ]
          },
          "metadata": {},
          "execution_count": 163
        }
      ]
    },
    {
      "cell_type": "code",
      "source": [],
      "metadata": {
        "id": "esSxe4lRl-Q1"
      },
      "execution_count": 164,
      "outputs": []
    },
    {
      "cell_type": "code",
      "source": [],
      "metadata": {
        "id": "1C5F7_npmDZa"
      },
      "execution_count": null,
      "outputs": []
    }
  ],
  "metadata": {
    "colab": {
      "provenance": []
    },
    "kernelspec": {
      "display_name": "Python 3",
      "name": "python3"
    },
    "language_info": {
      "name": "python"
    }
  },
  "nbformat": 4,
  "nbformat_minor": 0
}