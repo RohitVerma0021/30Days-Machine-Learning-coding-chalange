{
  "nbformat": 4,
  "nbformat_minor": 0,
  "metadata": {
    "colab": {
      "provenance": []
    },
    "kernelspec": {
      "name": "python3",
      "display_name": "Python 3"
    },
    "language_info": {
      "name": "python"
    }
  },
  "cells": [
    {
      "cell_type": "markdown",
      "source": [
        "## **# import numpy as np**"
      ],
      "metadata": {
        "id": "Stdiyxzc-djM"
      }
    },
    {
      "cell_type": "code",
      "source": [
        "import numpy as np"
      ],
      "metadata": {
        "id": "c14zBbrjWknZ"
      },
      "execution_count": 2,
      "outputs": []
    },
    {
      "cell_type": "markdown",
      "source": [
        "Creating a Vector"
      ],
      "metadata": {
        "id": "aqcFRBJT-s7D"
      }
    },
    {
      "cell_type": "code",
      "source": [
        "row = np.array([1,2,3,4])\n",
        "print(row)"
      ],
      "metadata": {
        "colab": {
          "base_uri": "https://localhost:8080/"
        },
        "id": "bltlJz16-kA4",
        "outputId": "ed964518-2a69-426a-e7e3-89405aedf677"
      },
      "execution_count": 3,
      "outputs": [
        {
          "output_type": "stream",
          "name": "stdout",
          "text": [
            "[1 2 3 4]\n"
          ]
        }
      ]
    },
    {
      "cell_type": "code",
      "source": [
        "column = np.array([[1],\n",
        "                  [2],\n",
        "                  [3],\n",
        "                  [4]])\n",
        "print(column)"
      ],
      "metadata": {
        "colab": {
          "base_uri": "https://localhost:8080/"
        },
        "id": "NGuuqPVm-xuF",
        "outputId": "acbc91d3-4202-4b2d-e2ec-aade34b87e63"
      },
      "execution_count": 6,
      "outputs": [
        {
          "output_type": "stream",
          "name": "stdout",
          "text": [
            "[[1]\n",
            " [2]\n",
            " [3]\n",
            " [4]]\n"
          ]
        }
      ]
    },
    {
      "cell_type": "markdown",
      "source": [
        "## **Creting Matrix (two dimensional array)**\n"
      ],
      "metadata": {
        "id": "hvRmoFM5DYYA"
      }
    },
    {
      "cell_type": "code",
      "source": [
        "matrix = np.array([[1,2,3],\n",
        "                   [4,5,6],\n",
        "                   [7,8,9]])\n",
        "print(matrix)"
      ],
      "metadata": {
        "colab": {
          "base_uri": "https://localhost:8080/"
        },
        "id": "78meyv0cDO1e",
        "outputId": "8ce39a95-8545-4eb7-ff35-2aa0c2de0f57"
      },
      "execution_count": 7,
      "outputs": [
        {
          "output_type": "stream",
          "name": "stdout",
          "text": [
            "[[1 2 3]\n",
            " [4 5 6]\n",
            " [7 8 9]]\n"
          ]
        }
      ]
    },
    {
      "cell_type": "markdown",
      "source": [
        "# **Creting Sparse matrix**"
      ],
      "metadata": {
        "id": "_fFXKKFND4qU"
      }
    },
    {
      "cell_type": "code",
      "source": [
        "from scipy import sparse\n",
        "matrix = np.array([[0,0,0],\n",
        "                   [0,0,1],\n",
        "                   [3,0,1]])"
      ],
      "metadata": {
        "id": "lesbjLrpDzjV"
      },
      "execution_count": 10,
      "outputs": []
    },
    {
      "cell_type": "code",
      "source": [
        "sparse_matrix = sparse.csr_matrix(matrix)\n",
        "print(sparse_matrix)"
      ],
      "metadata": {
        "colab": {
          "base_uri": "https://localhost:8080/"
        },
        "id": "cbWeb10NEZm9",
        "outputId": "3c5eda3b-81c7-43fe-8449-415bdd14c36d"
      },
      "execution_count": 11,
      "outputs": [
        {
          "output_type": "stream",
          "name": "stdout",
          "text": [
            "  (1, 2)\t1\n",
            "  (2, 0)\t3\n",
            "  (2, 2)\t1\n"
          ]
        }
      ]
    },
    {
      "cell_type": "code",
      "source": [
        "mat=np.array([[0,0,0,0,0,0,0,0],\n",
        "              [0,1,0,0,0,0,0,0],\n",
        "              [3,0,0,0,0,0,0,0]])\n",
        "sparse_mat = sparse.csr_matrix(mat)\n",
        "print(sparse_mat)"
      ],
      "metadata": {
        "colab": {
          "base_uri": "https://localhost:8080/"
        },
        "id": "elTYCxNTErNd",
        "outputId": "fca0bd93-9ce0-40a0-e3f2-3bd09698e84e"
      },
      "execution_count": 13,
      "outputs": [
        {
          "output_type": "stream",
          "name": "stdout",
          "text": [
            "  (1, 1)\t1\n",
            "  (2, 0)\t3\n"
          ]
        }
      ]
    },
    {
      "cell_type": "markdown",
      "source": [
        "# **Selecting** **Element** "
      ],
      "metadata": {
        "id": "ljw-ElaFFotq"
      }
    },
    {
      "cell_type": "code",
      "source": [
        "M= np.array([1,2,3,4,5,6])\n",
        "M[5]"
      ],
      "metadata": {
        "colab": {
          "base_uri": "https://localhost:8080/"
        },
        "id": "Suyf5lfIFQJt",
        "outputId": "c9eb4d1a-3b42-4795-e563-e3e7142888e9"
      },
      "execution_count": 17,
      "outputs": [
        {
          "output_type": "execute_result",
          "data": {
            "text/plain": [
              "6"
            ]
          },
          "metadata": {},
          "execution_count": 17
        }
      ]
    },
    {
      "cell_type": "code",
      "source": [
        "M[0:3]"
      ],
      "metadata": {
        "colab": {
          "base_uri": "https://localhost:8080/"
        },
        "id": "NiZeJCRPFwiN",
        "outputId": "be15fa70-ebc0-4b9a-d2f0-0188fc7a8b93"
      },
      "execution_count": 18,
      "outputs": [
        {
          "output_type": "execute_result",
          "data": {
            "text/plain": [
              "array([1, 2, 3])"
            ]
          },
          "metadata": {},
          "execution_count": 18
        }
      ]
    },
    {
      "cell_type": "code",
      "source": [
        "M[:5]"
      ],
      "metadata": {
        "colab": {
          "base_uri": "https://localhost:8080/"
        },
        "id": "hGrG6ypuGnrb",
        "outputId": "ea989a69-63c7-406a-f0f2-23ee199feeae"
      },
      "execution_count": 21,
      "outputs": [
        {
          "output_type": "execute_result",
          "data": {
            "text/plain": [
              "array([1, 2, 3, 4, 5])"
            ]
          },
          "metadata": {},
          "execution_count": 21
        }
      ]
    },
    {
      "cell_type": "code",
      "source": [
        "M[3:]"
      ],
      "metadata": {
        "colab": {
          "base_uri": "https://localhost:8080/"
        },
        "id": "odq6kiQSGrRq",
        "outputId": "48dd400c-857a-4695-9fed-be7ad04ca5ae"
      },
      "execution_count": 22,
      "outputs": [
        {
          "output_type": "execute_result",
          "data": {
            "text/plain": [
              "array([4, 5, 6])"
            ]
          },
          "metadata": {},
          "execution_count": 22
        }
      ]
    },
    {
      "cell_type": "code",
      "source": [
        "matrix = np.array([[1,2,3],\n",
        "                   [4,5,6],\n",
        "                   [7,8,9]])\n",
        "matrix[1,1]"
      ],
      "metadata": {
        "colab": {
          "base_uri": "https://localhost:8080/"
        },
        "id": "vnde-6rbGMqd",
        "outputId": "b8ee3dbe-c12e-4596-9ab9-c5cf127894ba"
      },
      "execution_count": 19,
      "outputs": [
        {
          "output_type": "execute_result",
          "data": {
            "text/plain": [
              "5"
            ]
          },
          "metadata": {},
          "execution_count": 19
        }
      ]
    },
    {
      "cell_type": "code",
      "source": [
        "matrix[0:1,1:3]"
      ],
      "metadata": {
        "colab": {
          "base_uri": "https://localhost:8080/"
        },
        "id": "4i54QB4kGVjl",
        "outputId": "7c1bd5ff-01ae-4009-fc6e-5045a24b12a7"
      },
      "execution_count": 20,
      "outputs": [
        {
          "output_type": "execute_result",
          "data": {
            "text/plain": [
              "array([[2, 3]])"
            ]
          },
          "metadata": {},
          "execution_count": 20
        }
      ]
    },
    {
      "cell_type": "code",
      "source": [
        "matrix[2:3,:]"
      ],
      "metadata": {
        "colab": {
          "base_uri": "https://localhost:8080/"
        },
        "id": "CzoGSuvMGgg9",
        "outputId": "cc956a3a-9018-4f7e-9dd1-54dcb6fc9431"
      },
      "execution_count": 23,
      "outputs": [
        {
          "output_type": "execute_result",
          "data": {
            "text/plain": [
              "array([[7, 8, 9]])"
            ]
          },
          "metadata": {},
          "execution_count": 23
        }
      ]
    },
    {
      "cell_type": "code",
      "source": [
        "matrix[:,0:1]"
      ],
      "metadata": {
        "colab": {
          "base_uri": "https://localhost:8080/"
        },
        "id": "jn_OR-ioG-Ut",
        "outputId": "33748b1d-7999-427b-db8f-03d6bb80e9be"
      },
      "execution_count": 24,
      "outputs": [
        {
          "output_type": "execute_result",
          "data": {
            "text/plain": [
              "array([[1],\n",
              "       [4],\n",
              "       [7]])"
            ]
          },
          "metadata": {},
          "execution_count": 24
        }
      ]
    },
    {
      "cell_type": "markdown",
      "source": [
        "# **Describe The matrix**\n",
        "\n",
        "> Use shape,size,ndim\n",
        "\n"
      ],
      "metadata": {
        "id": "PLcYuiNTHNdG"
      }
    },
    {
      "cell_type": "code",
      "source": [
        "matrix=np.array([[1,2,3,4],\n",
        "                 [5,6,7,8],\n",
        "                 [9,10,11,12]])"
      ],
      "metadata": {
        "id": "t178JbVrHFn1"
      },
      "execution_count": 26,
      "outputs": []
    },
    {
      "cell_type": "code",
      "source": [
        "matrix.shape  #(Number 0f row and number of column)"
      ],
      "metadata": {
        "colab": {
          "base_uri": "https://localhost:8080/"
        },
        "id": "57V_xIyxHSIG",
        "outputId": "07ac2760-43ea-4a74-a4ea-1aa5981d0b28"
      },
      "execution_count": 32,
      "outputs": [
        {
          "output_type": "execute_result",
          "data": {
            "text/plain": [
              "(3, 4)"
            ]
          },
          "metadata": {},
          "execution_count": 32
        }
      ]
    },
    {
      "cell_type": "code",
      "source": [
        "matrix.size  #(Row*Column)"
      ],
      "metadata": {
        "colab": {
          "base_uri": "https://localhost:8080/"
        },
        "id": "Yk-kB3S4H-0t",
        "outputId": "ba2e6627-6027-4321-c0cf-90a70de9adb9"
      },
      "execution_count": 28,
      "outputs": [
        {
          "output_type": "execute_result",
          "data": {
            "text/plain": [
              "12"
            ]
          },
          "metadata": {},
          "execution_count": 28
        }
      ]
    },
    {
      "cell_type": "code",
      "source": [
        "matrix.ndim  #View number of dimension"
      ],
      "metadata": {
        "colab": {
          "base_uri": "https://localhost:8080/"
        },
        "id": "fj3p99eDIBiV",
        "outputId": "f7b6fa6d-b5a8-4294-ade4-d2fb09114de7"
      },
      "execution_count": 29,
      "outputs": [
        {
          "output_type": "execute_result",
          "data": {
            "text/plain": [
              "2"
            ]
          },
          "metadata": {},
          "execution_count": 29
        }
      ]
    },
    {
      "cell_type": "code",
      "source": [
        "m=np.array([[[1,2,3],[4,5,6],[7,8,9]]])"
      ],
      "metadata": {
        "id": "jZ8JIJ_uIO59"
      },
      "execution_count": 30,
      "outputs": []
    },
    {
      "cell_type": "code",
      "source": [
        "m.ndim"
      ],
      "metadata": {
        "colab": {
          "base_uri": "https://localhost:8080/"
        },
        "id": "2ZLi0Nk1Icxd",
        "outputId": "27ede92f-efc8-4e5c-da0c-48ce66f9b5d5"
      },
      "execution_count": 31,
      "outputs": [
        {
          "output_type": "execute_result",
          "data": {
            "text/plain": [
              "3"
            ]
          },
          "metadata": {},
          "execution_count": 31
        }
      ]
    },
    {
      "cell_type": "code",
      "source": [],
      "metadata": {
        "id": "SerP5SW-Id8N"
      },
      "execution_count": null,
      "outputs": []
    },
    {
      "cell_type": "markdown",
      "source": [
        "# **Add any didgit in matrix**"
      ],
      "metadata": {
        "id": "e3UBaIjDJI3o"
      }
    },
    {
      "cell_type": "code",
      "source": [
        "matrix = np.array([[1,2,3],\n",
        "                   [4,5,6],\n",
        "                   [7,8,9]])"
      ],
      "metadata": {
        "id": "qCb_GCR8JtcN"
      },
      "execution_count": 33,
      "outputs": []
    },
    {
      "cell_type": "code",
      "source": [
        "matrix+100"
      ],
      "metadata": {
        "colab": {
          "base_uri": "https://localhost:8080/"
        },
        "id": "jREp5Ah3JvgV",
        "outputId": "e2a5b1e9-7fbf-457c-eba4-6c84eb110196"
      },
      "execution_count": 34,
      "outputs": [
        {
          "output_type": "execute_result",
          "data": {
            "text/plain": [
              "array([[101, 102, 103],\n",
              "       [104, 105, 106],\n",
              "       [107, 108, 109]])"
            ]
          },
          "metadata": {},
          "execution_count": 34
        }
      ]
    },
    {
      "cell_type": "code",
      "source": [
        "matrix-1"
      ],
      "metadata": {
        "colab": {
          "base_uri": "https://localhost:8080/"
        },
        "id": "miB7WjmhJzBN",
        "outputId": "3326a15d-509e-43e9-deb6-5a4ccf9618c3"
      },
      "execution_count": 35,
      "outputs": [
        {
          "output_type": "execute_result",
          "data": {
            "text/plain": [
              "array([[0, 1, 2],\n",
              "       [3, 4, 5],\n",
              "       [6, 7, 8]])"
            ]
          },
          "metadata": {},
          "execution_count": 35
        }
      ]
    },
    {
      "cell_type": "code",
      "source": [],
      "metadata": {
        "id": "U3UByeZMJ2Xu"
      },
      "execution_count": null,
      "outputs": []
    },
    {
      "cell_type": "markdown",
      "source": [
        "# **Finding the Maximum and Minimum Value in the matrix**"
      ],
      "metadata": {
        "id": "5ZzJbJUoKLGr"
      }
    },
    {
      "cell_type": "code",
      "source": [
        "matrix = np.array([[1,2,3],\n",
        "                   [4,5,6],\n",
        "                   [7,8,9]])\n",
        "m=np.max(matrix)\n",
        "print(m)"
      ],
      "metadata": {
        "colab": {
          "base_uri": "https://localhost:8080/"
        },
        "id": "S4kiz2jhKWnV",
        "outputId": "74264dde-c86e-44f2-da44-e65af37c7fbc"
      },
      "execution_count": 39,
      "outputs": [
        {
          "output_type": "stream",
          "name": "stdout",
          "text": [
            "9\n"
          ]
        }
      ]
    },
    {
      "cell_type": "code",
      "source": [
        "min=np.min(matrix)\n",
        "print(min)"
      ],
      "metadata": {
        "colab": {
          "base_uri": "https://localhost:8080/"
        },
        "id": "39yMClFgKg21",
        "outputId": "d4a1e6d0-f924-485c-8049-35c445cc41c2"
      },
      "execution_count": 41,
      "outputs": [
        {
          "output_type": "stream",
          "name": "stdout",
          "text": [
            "1\n"
          ]
        }
      ]
    },
    {
      "cell_type": "markdown",
      "source": [
        "**Finding the minimum and maximum in column and row by using axis  **"
      ],
      "metadata": {
        "id": "Xh3wzeOeKx7X"
      }
    },
    {
      "cell_type": "code",
      "source": [
        "np.max(matrix,axis=0) #finding the maximum in in column usnig axis=0"
      ],
      "metadata": {
        "colab": {
          "base_uri": "https://localhost:8080/"
        },
        "id": "MHcB89sUKrx9",
        "outputId": "90006084-c329-43bf-ad4a-e38b9ac9f54f"
      },
      "execution_count": 43,
      "outputs": [
        {
          "output_type": "execute_result",
          "data": {
            "text/plain": [
              "array([7, 8, 9])"
            ]
          },
          "metadata": {},
          "execution_count": 43
        }
      ]
    },
    {
      "cell_type": "code",
      "source": [
        "np.min(matrix,axis=0)"
      ],
      "metadata": {
        "colab": {
          "base_uri": "https://localhost:8080/"
        },
        "id": "Jcp-iOKDK5jm",
        "outputId": "0f595b4a-64e1-42c5-9df5-543856007f8b"
      },
      "execution_count": 44,
      "outputs": [
        {
          "output_type": "execute_result",
          "data": {
            "text/plain": [
              "array([1, 2, 3])"
            ]
          },
          "metadata": {},
          "execution_count": 44
        }
      ]
    },
    {
      "cell_type": "code",
      "source": [
        "np.max(matrix,axis=1)  #findig the max value in the row by using axis=1"
      ],
      "metadata": {
        "colab": {
          "base_uri": "https://localhost:8080/"
        },
        "id": "l1ccGdgALd_0",
        "outputId": "950350c3-036c-4d99-b055-b9684e2a2290"
      },
      "execution_count": 46,
      "outputs": [
        {
          "output_type": "execute_result",
          "data": {
            "text/plain": [
              "array([3, 6, 9])"
            ]
          },
          "metadata": {},
          "execution_count": 46
        }
      ]
    },
    {
      "cell_type": "code",
      "source": [
        "np.min(matrix,axis=1)"
      ],
      "metadata": {
        "colab": {
          "base_uri": "https://localhost:8080/"
        },
        "id": "A5Pp_312LiHM",
        "outputId": "709efc90-03ab-425e-ed6f-03663dfcf9e5"
      },
      "execution_count": 47,
      "outputs": [
        {
          "output_type": "execute_result",
          "data": {
            "text/plain": [
              "array([1, 4, 7])"
            ]
          },
          "metadata": {},
          "execution_count": 47
        }
      ]
    },
    {
      "cell_type": "markdown",
      "source": [
        "# **Calculating the Averege,Variance and Standard**"
      ],
      "metadata": {
        "id": "SwEBE_I4MQUj"
      }
    },
    {
      "cell_type": "code",
      "source": [
        "matrix = np.array([[1,2,3],\n",
        "                   [4,5,6],\n",
        "                   [7,8,9]])"
      ],
      "metadata": {
        "id": "nQHGil9dLxHF"
      },
      "execution_count": 49,
      "outputs": []
    },
    {
      "cell_type": "code",
      "source": [
        "mean_matrix=np.mean(matrix)  #Find the mean \n",
        "print(mean_matrix)"
      ],
      "metadata": {
        "colab": {
          "base_uri": "https://localhost:8080/"
        },
        "id": "k6hRAEP0MrzM",
        "outputId": "791db697-c841-4288-d8df-971be37c438a"
      },
      "execution_count": 50,
      "outputs": [
        {
          "output_type": "stream",
          "name": "stdout",
          "text": [
            "5.0\n"
          ]
        }
      ]
    },
    {
      "cell_type": "code",
      "source": [
        "standard_matrix = np.std(matrix) #Find the Standard Deviation\n",
        "print(standard_matrix)"
      ],
      "metadata": {
        "colab": {
          "base_uri": "https://localhost:8080/"
        },
        "id": "qDW2U2w5NRNE",
        "outputId": "70506488-2cbd-45d9-f1d2-1f774f9ee5f9"
      },
      "execution_count": 53,
      "outputs": [
        {
          "output_type": "stream",
          "name": "stdout",
          "text": [
            "2.581988897471611\n"
          ]
        }
      ]
    },
    {
      "cell_type": "code",
      "source": [
        "var_matrix=np.var(matrix)\n",
        "var_matrix"
      ],
      "metadata": {
        "colab": {
          "base_uri": "https://localhost:8080/"
        },
        "id": "B-VUarKXNgQO",
        "outputId": "808111d8-ff94-46a4-bd97-147302e2afd2"
      },
      "execution_count": 54,
      "outputs": [
        {
          "output_type": "execute_result",
          "data": {
            "text/plain": [
              "6.666666666666667"
            ]
          },
          "metadata": {},
          "execution_count": 54
        }
      ]
    },
    {
      "cell_type": "markdown",
      "source": [
        "**Find the mean value in the column and row**"
      ],
      "metadata": {
        "id": "BlW8bFCtNyd_"
      }
    },
    {
      "cell_type": "code",
      "source": [
        "matrix = np.array([[1,2,3],\n",
        "                   [4,5,6],\n",
        "                   [7,8,9]])"
      ],
      "metadata": {
        "id": "v5GfC7LRNwKt"
      },
      "execution_count": 55,
      "outputs": []
    },
    {
      "cell_type": "code",
      "source": [
        "np.mean(matrix,axis=0)"
      ],
      "metadata": {
        "colab": {
          "base_uri": "https://localhost:8080/"
        },
        "id": "qs97plyDN8W9",
        "outputId": "ce4b7b4c-feb0-472f-97c4-d6b5063ee7ff"
      },
      "execution_count": 56,
      "outputs": [
        {
          "output_type": "execute_result",
          "data": {
            "text/plain": [
              "array([4., 5., 6.])"
            ]
          },
          "metadata": {},
          "execution_count": 56
        }
      ]
    },
    {
      "cell_type": "code",
      "source": [
        "np.mean(matrix,axis=1)"
      ],
      "metadata": {
        "colab": {
          "base_uri": "https://localhost:8080/"
        },
        "id": "a42F8kYsOGbd",
        "outputId": "a1d2fe2b-1ea1-4038-88de-d067c4617bdf"
      },
      "execution_count": 57,
      "outputs": [
        {
          "output_type": "execute_result",
          "data": {
            "text/plain": [
              "array([2., 5., 8.])"
            ]
          },
          "metadata": {},
          "execution_count": 57
        }
      ]
    },
    {
      "cell_type": "markdown",
      "source": [
        "# **Reshaping Arrays**"
      ],
      "metadata": {
        "id": "cMIs9is8OQGV"
      }
    },
    {
      "cell_type": "code",
      "source": [
        "matrix = np.array([[1,2,3],\n",
        "                   [4,5,6],\n",
        "                   [7,8,9],\n",
        "                   [10,11,12]])"
      ],
      "metadata": {
        "id": "mF2pQQCtOLht"
      },
      "execution_count": 60,
      "outputs": []
    },
    {
      "cell_type": "code",
      "source": [
        "matrix.reshape(2,6)"
      ],
      "metadata": {
        "colab": {
          "base_uri": "https://localhost:8080/"
        },
        "id": "-cDi9JNKOZY1",
        "outputId": "06500eb0-e973-45de-f4f7-165b3525afe8"
      },
      "execution_count": 65,
      "outputs": [
        {
          "output_type": "execute_result",
          "data": {
            "text/plain": [
              "array([[ 1,  2,  3,  4,  5,  6],\n",
              "       [ 7,  8,  9, 10, 11, 12]])"
            ]
          },
          "metadata": {},
          "execution_count": 65
        }
      ]
    },
    {
      "cell_type": "code",
      "source": [
        "matrix.reshape(3,4)"
      ],
      "metadata": {
        "colab": {
          "base_uri": "https://localhost:8080/"
        },
        "id": "Xs_g_E_0Ok91",
        "outputId": "f5342966-38ba-44c9-9d77-3233e77a4881"
      },
      "execution_count": 67,
      "outputs": [
        {
          "output_type": "execute_result",
          "data": {
            "text/plain": [
              "array([[ 1,  2,  3,  4],\n",
              "       [ 5,  6,  7,  8],\n",
              "       [ 9, 10, 11, 12]])"
            ]
          },
          "metadata": {},
          "execution_count": 67
        }
      ]
    },
    {
      "cell_type": "code",
      "source": [
        "matrix.reshape(12)"
      ],
      "metadata": {
        "colab": {
          "base_uri": "https://localhost:8080/"
        },
        "id": "99YgSzf5PTQl",
        "outputId": "5954f4c1-3bec-4348-b4b2-2b0a2d1f8929"
      },
      "execution_count": 69,
      "outputs": [
        {
          "output_type": "execute_result",
          "data": {
            "text/plain": [
              "array([ 1,  2,  3,  4,  5,  6,  7,  8,  9, 10, 11, 12])"
            ]
          },
          "metadata": {},
          "execution_count": 69
        }
      ]
    },
    {
      "cell_type": "code",
      "source": [
        "matrix.reshape(-1,1) #Here is the one usefull argument is -1 means \"As many needed column and row\" "
      ],
      "metadata": {
        "colab": {
          "base_uri": "https://localhost:8080/"
        },
        "id": "CDd1a-xvPieN",
        "outputId": "0654c705-51f5-4127-b627-4163b4c4cd1d"
      },
      "execution_count": 72,
      "outputs": [
        {
          "output_type": "execute_result",
          "data": {
            "text/plain": [
              "array([[ 1],\n",
              "       [ 2],\n",
              "       [ 3],\n",
              "       [ 4],\n",
              "       [ 5],\n",
              "       [ 6],\n",
              "       [ 7],\n",
              "       [ 8],\n",
              "       [ 9],\n",
              "       [10],\n",
              "       [11],\n",
              "       [12]])"
            ]
          },
          "metadata": {},
          "execution_count": 72
        }
      ]
    },
    {
      "cell_type": "code",
      "source": [
        "matrix.reshape(1,-1)"
      ],
      "metadata": {
        "colab": {
          "base_uri": "https://localhost:8080/"
        },
        "id": "mEBc0w8jP20l",
        "outputId": "75b52110-be23-4f5a-e3fb-fe6c01b585bb"
      },
      "execution_count": 73,
      "outputs": [
        {
          "output_type": "execute_result",
          "data": {
            "text/plain": [
              "array([[ 1,  2,  3,  4,  5,  6,  7,  8,  9, 10, 11, 12]])"
            ]
          },
          "metadata": {},
          "execution_count": 73
        }
      ]
    },
    {
      "cell_type": "code",
      "source": [],
      "metadata": {
        "id": "YJPcyvaGQL-N"
      },
      "execution_count": null,
      "outputs": []
    },
    {
      "cell_type": "markdown",
      "source": [
        "# **Transporting a Matrix**"
      ],
      "metadata": {
        "id": "2R52fAmTQhvi"
      }
    },
    {
      "cell_type": "code",
      "source": [
        "matrix = np.array([[1,2,3],\n",
        "                   [4,5,6],\n",
        "                   [7,8,9]])"
      ],
      "metadata": {
        "id": "4jUfr_xsQrrs"
      },
      "execution_count": 74,
      "outputs": []
    },
    {
      "cell_type": "code",
      "source": [
        "matrix.T  #this function is swaped the matrix element"
      ],
      "metadata": {
        "colab": {
          "base_uri": "https://localhost:8080/"
        },
        "id": "UOI-5PAkQus8",
        "outputId": "90826bbd-3730-4c6c-c3c0-5c526c6256ec"
      },
      "execution_count": 76,
      "outputs": [
        {
          "output_type": "execute_result",
          "data": {
            "text/plain": [
              "array([[1, 4, 7],\n",
              "       [2, 5, 8],\n",
              "       [3, 6, 9]])"
            ]
          },
          "metadata": {},
          "execution_count": 76
        }
      ]
    },
    {
      "cell_type": "code",
      "source": [
        "m=np.array([[1,2,3,4,5,6,7,8]])\n",
        "m.T"
      ],
      "metadata": {
        "colab": {
          "base_uri": "https://localhost:8080/"
        },
        "id": "3qVfTPAPQwSl",
        "outputId": "80e6280d-95ca-48c8-a2d0-5600fc5fffb1"
      },
      "execution_count": 78,
      "outputs": [
        {
          "output_type": "execute_result",
          "data": {
            "text/plain": [
              "array([[1],\n",
              "       [2],\n",
              "       [3],\n",
              "       [4],\n",
              "       [5],\n",
              "       [6],\n",
              "       [7],\n",
              "       [8]])"
            ]
          },
          "metadata": {},
          "execution_count": 78
        }
      ]
    },
    {
      "cell_type": "markdown",
      "source": [
        "# **Flattening a Matrix**\n",
        "**you need to transform a matrix into a one dimension matrix**\n"
      ],
      "metadata": {
        "id": "SMT30CMNRFyI"
      }
    },
    {
      "cell_type": "code",
      "source": [
        "matrix = np.array([[1,2,3],\n",
        "                   [4,5,6],\n",
        "                   [7,8,9]])"
      ],
      "metadata": {
        "id": "ARUlLOYNQ_iU"
      },
      "execution_count": 79,
      "outputs": []
    },
    {
      "cell_type": "code",
      "source": [
        "matrix.flatten()"
      ],
      "metadata": {
        "colab": {
          "base_uri": "https://localhost:8080/"
        },
        "id": "5gXgm7I9RKAV",
        "outputId": "1394e6d5-e7d0-4ba9-9aaa-cdf1b7d7a350"
      },
      "execution_count": 80,
      "outputs": [
        {
          "output_type": "execute_result",
          "data": {
            "text/plain": [
              "array([1, 2, 3, 4, 5, 6, 7, 8, 9])"
            ]
          },
          "metadata": {},
          "execution_count": 80
        }
      ]
    },
    {
      "cell_type": "code",
      "source": [
        "three_dimension=np.array([[[1,2,3],\n",
        "                           [4,5,6],\n",
        "                           [7,8,9]]])"
      ],
      "metadata": {
        "id": "LEmTOgSSRnl9"
      },
      "execution_count": 83,
      "outputs": []
    },
    {
      "cell_type": "code",
      "source": [
        "three_dimension.ndim"
      ],
      "metadata": {
        "colab": {
          "base_uri": "https://localhost:8080/"
        },
        "id": "EM54LL74RwQ8",
        "outputId": "506c5abe-56f1-4359-a45c-ff03bffc572f"
      },
      "execution_count": 84,
      "outputs": [
        {
          "output_type": "execute_result",
          "data": {
            "text/plain": [
              "3"
            ]
          },
          "metadata": {},
          "execution_count": 84
        }
      ]
    },
    {
      "cell_type": "code",
      "source": [
        "one=three_dimension.flatten()\n",
        "one"
      ],
      "metadata": {
        "colab": {
          "base_uri": "https://localhost:8080/"
        },
        "id": "jpf0AKQcR93l",
        "outputId": "d6ded968-f7c6-4099-bec6-3504c6f2ddfc"
      },
      "execution_count": 88,
      "outputs": [
        {
          "output_type": "execute_result",
          "data": {
            "text/plain": [
              "array([1, 2, 3, 4, 5, 6, 7, 8, 9])"
            ]
          },
          "metadata": {},
          "execution_count": 88
        }
      ]
    },
    {
      "cell_type": "code",
      "source": [
        "one.ndim"
      ],
      "metadata": {
        "colab": {
          "base_uri": "https://localhost:8080/"
        },
        "id": "05brcFUvSFS1",
        "outputId": "6bedfdbb-c92d-4b72-8a3c-5905815ffad9"
      },
      "execution_count": 89,
      "outputs": [
        {
          "output_type": "execute_result",
          "data": {
            "text/plain": [
              "1"
            ]
          },
          "metadata": {},
          "execution_count": 89
        }
      ]
    },
    {
      "cell_type": "markdown",
      "source": [
        "# **Finding the Rank of a Matrix**"
      ],
      "metadata": {
        "id": "5KHLjuDJSbGg"
      }
    },
    {
      "cell_type": "code",
      "source": [
        "matrix = np.array([[1,2,3],\n",
        "                   [4,5,6],\n",
        "                   [7,8,9]])"
      ],
      "metadata": {
        "id": "R_Hn3Wq1SMbk"
      },
      "execution_count": 90,
      "outputs": []
    },
    {
      "cell_type": "code",
      "source": [
        "np.linalg.matrix_rank(matrix)"
      ],
      "metadata": {
        "colab": {
          "base_uri": "https://localhost:8080/"
        },
        "id": "ETRkBPkhSgOs",
        "outputId": "449cfeb5-43fe-4c67-9ec0-9ecd9590c894"
      },
      "execution_count": 95,
      "outputs": [
        {
          "output_type": "execute_result",
          "data": {
            "text/plain": [
              "2"
            ]
          },
          "metadata": {},
          "execution_count": 95
        }
      ]
    },
    {
      "cell_type": "code",
      "source": [
        "three_dimension"
      ],
      "metadata": {
        "colab": {
          "base_uri": "https://localhost:8080/"
        },
        "id": "UR-dUiFtSpTU",
        "outputId": "30a95b26-9674-4f31-fe15-bd32a19cdd86"
      },
      "execution_count": 96,
      "outputs": [
        {
          "output_type": "execute_result",
          "data": {
            "text/plain": [
              "array([[[1, 2, 3],\n",
              "        [4, 5, 6],\n",
              "        [7, 8, 9]]])"
            ]
          },
          "metadata": {},
          "execution_count": 96
        }
      ]
    },
    {
      "cell_type": "code",
      "source": [
        "np.linalg.matrix_rank(three_dimension)"
      ],
      "metadata": {
        "colab": {
          "base_uri": "https://localhost:8080/"
        },
        "id": "BWAHGGtQT7J9",
        "outputId": "848ef86b-695c-4f9a-aba8-c0644d02bd92"
      },
      "execution_count": 97,
      "outputs": [
        {
          "output_type": "execute_result",
          "data": {
            "text/plain": [
              "array([2])"
            ]
          },
          "metadata": {},
          "execution_count": 97
        }
      ]
    },
    {
      "cell_type": "markdown",
      "source": [
        "# **Calculating the Determinant**"
      ],
      "metadata": {
        "id": "36SQFR5YUK2_"
      }
    },
    {
      "cell_type": "code",
      "source": [
        "matrix = np.array([[1,2,3],\n",
        "                   [4,5,6],\n",
        "                   [7,8,9]])"
      ],
      "metadata": {
        "id": "cc6D8Y19UHNM"
      },
      "execution_count": 98,
      "outputs": []
    },
    {
      "cell_type": "code",
      "source": [
        "np.linalg.det(matrix)"
      ],
      "metadata": {
        "colab": {
          "base_uri": "https://localhost:8080/"
        },
        "id": "sV9GNCTBURdU",
        "outputId": "06243105-98ce-419a-cd31-8a1530ae3b0c"
      },
      "execution_count": 100,
      "outputs": [
        {
          "output_type": "execute_result",
          "data": {
            "text/plain": [
              "0.0"
            ]
          },
          "metadata": {},
          "execution_count": 100
        }
      ]
    },
    {
      "cell_type": "code",
      "source": [
        "np.linalg.det(three_dimension)"
      ],
      "metadata": {
        "colab": {
          "base_uri": "https://localhost:8080/"
        },
        "id": "kTS6k1fIUioM",
        "outputId": "7d1aeb65-fade-4a95-dd7f-32a123a2d352"
      },
      "execution_count": 101,
      "outputs": [
        {
          "output_type": "execute_result",
          "data": {
            "text/plain": [
              "array([0.])"
            ]
          },
          "metadata": {},
          "execution_count": 101
        }
      ]
    },
    {
      "cell_type": "markdown",
      "source": [
        "# **Getting the Diagonal of a Matrix**"
      ],
      "metadata": {
        "id": "L2r8x6FvU18R"
      }
    },
    {
      "cell_type": "code",
      "source": [
        "matrix = np.array([[1,2,3],\n",
        "                   [4,5,6],\n",
        "                   [7,8,9]])\n"
      ],
      "metadata": {
        "id": "YYzDW-c0Uwvl"
      },
      "execution_count": 102,
      "outputs": []
    },
    {
      "cell_type": "code",
      "source": [
        "matrix.diagonal()"
      ],
      "metadata": {
        "colab": {
          "base_uri": "https://localhost:8080/"
        },
        "id": "uAFY_jQnU-ul",
        "outputId": "3e39d047-b15d-4d5f-a143-3b8b8c2a13cc"
      },
      "execution_count": 104,
      "outputs": [
        {
          "output_type": "execute_result",
          "data": {
            "text/plain": [
              "array([1, 5, 9])"
            ]
          },
          "metadata": {},
          "execution_count": 104
        }
      ]
    },
    {
      "cell_type": "code",
      "source": [
        "matrix.diagonal(offset=1) #Return diagonal one above the main diagonal"
      ],
      "metadata": {
        "colab": {
          "base_uri": "https://localhost:8080/"
        },
        "id": "SC6sj3e5VesM",
        "outputId": "e2d74a95-44b6-4bde-9292-b8795f3c092d"
      },
      "execution_count": 110,
      "outputs": [
        {
          "output_type": "execute_result",
          "data": {
            "text/plain": [
              "array([2, 6])"
            ]
          },
          "metadata": {},
          "execution_count": 110
        }
      ]
    },
    {
      "cell_type": "code",
      "source": [
        "matrix.diagonal(offset=-1)  #Return diagonal one below the main diagonal"
      ],
      "metadata": {
        "colab": {
          "base_uri": "https://localhost:8080/"
        },
        "id": "JVZc_u15Vw-9",
        "outputId": "913e8c1e-3677-4622-d322-b08081120718"
      },
      "execution_count": 111,
      "outputs": [
        {
          "output_type": "execute_result",
          "data": {
            "text/plain": [
              "array([4, 8])"
            ]
          },
          "metadata": {},
          "execution_count": 111
        }
      ]
    },
    {
      "cell_type": "markdown",
      "source": [
        "# **Calculating the Trace of a Matrix**"
      ],
      "metadata": {
        "id": "Fn0tn9FcWJer"
      }
    },
    {
      "cell_type": "code",
      "source": [
        "matrix = np.array([[1,2,3],\n",
        "                   [4,5,6],\n",
        "                   [7,8,9]])\n"
      ],
      "metadata": {
        "id": "l3QgPSDUV_O0"
      },
      "execution_count": 112,
      "outputs": []
    },
    {
      "cell_type": "code",
      "source": [
        "matrix.trace()  #means calculating the diagonal of a matrix"
      ],
      "metadata": {
        "colab": {
          "base_uri": "https://localhost:8080/"
        },
        "id": "tK4tNSTVWPus",
        "outputId": "c8ddd359-d110-4bb2-a455-0ec7ac906fd4"
      },
      "execution_count": 114,
      "outputs": [
        {
          "output_type": "execute_result",
          "data": {
            "text/plain": [
              "15"
            ]
          },
          "metadata": {},
          "execution_count": 114
        }
      ]
    },
    {
      "cell_type": "code",
      "source": [
        "m=np.array([[2,4,6],\n",
        "            [7,8,9],\n",
        "            [1,9,7]])"
      ],
      "metadata": {
        "id": "Uz_b9T0SWygk"
      },
      "execution_count": 115,
      "outputs": []
    },
    {
      "cell_type": "code",
      "source": [
        "m.trace()"
      ],
      "metadata": {
        "colab": {
          "base_uri": "https://localhost:8080/"
        },
        "id": "-OjGO54CXC4c",
        "outputId": "00a8c8ab-74a8-490b-b1e3-20653a4af77c"
      },
      "execution_count": 116,
      "outputs": [
        {
          "output_type": "execute_result",
          "data": {
            "text/plain": [
              "17"
            ]
          },
          "metadata": {},
          "execution_count": 116
        }
      ]
    },
    {
      "cell_type": "markdown",
      "source": [
        "# **Finding the Eigenvalue and Eigenvectors**"
      ],
      "metadata": {
        "id": "jWzFv1r3XN9t"
      }
    },
    {
      "cell_type": "code",
      "source": [
        "matrix = np.array([[1,-1,2],\n",
        "                   [1,1,6],\n",
        "                   [3,8,9]])"
      ],
      "metadata": {
        "id": "tgu3ClRgXF9k"
      },
      "execution_count": 117,
      "outputs": []
    },
    {
      "cell_type": "code",
      "source": [
        "eigenvalues,eigenvectors =np.linalg.eig(matrix)"
      ],
      "metadata": {
        "id": "29aMJf7EXZek"
      },
      "execution_count": 118,
      "outputs": []
    },
    {
      "cell_type": "code",
      "source": [
        "eigenvalues"
      ],
      "metadata": {
        "colab": {
          "base_uri": "https://localhost:8080/"
        },
        "id": "qmxfv00cYrUU",
        "outputId": "35157b4a-50ff-4497-bdbc-421087947edd"
      },
      "execution_count": 119,
      "outputs": [
        {
          "output_type": "execute_result",
          "data": {
            "text/plain": [
              "array([13.33584952,  0.88475897, -3.2206085 ])"
            ]
          },
          "metadata": {},
          "execution_count": 119
        }
      ]
    },
    {
      "cell_type": "code",
      "source": [
        "eigenvectors"
      ],
      "metadata": {
        "colab": {
          "base_uri": "https://localhost:8080/"
        },
        "id": "_b5LlRenYuGM",
        "outputId": "950f288b-cf2d-4f86-de78-2b6445f6cdc2"
      },
      "execution_count": 120,
      "outputs": [
        {
          "output_type": "execute_result",
          "data": {
            "text/plain": [
              "array([[-0.10854731, -0.96648374, -0.43414013],\n",
              "       [-0.44191126,  0.20298526, -0.70116895],\n",
              "       [-0.89046725,  0.15718192,  0.56558329]])"
            ]
          },
          "metadata": {},
          "execution_count": 120
        }
      ]
    },
    {
      "cell_type": "code",
      "source": [
        "matrix1 = np.array([[1,2,3],\n",
        "                   [4,5,6],\n",
        "                   [7,8,9]])\n"
      ],
      "metadata": {
        "id": "kXMUXVoVYx0U"
      },
      "execution_count": 128,
      "outputs": []
    },
    {
      "cell_type": "code",
      "source": [
        "eigenvlaues,eigenvectors = np.linalg.eig(matrix1)"
      ],
      "metadata": {
        "id": "p3B6sVGVZn4E"
      },
      "execution_count": 129,
      "outputs": []
    },
    {
      "cell_type": "code",
      "source": [
        "eigenvalues"
      ],
      "metadata": {
        "colab": {
          "base_uri": "https://localhost:8080/"
        },
        "id": "BimJtVE0Zy-1",
        "outputId": "6cb78860-ad6a-4e2a-bf5d-b52acb263fcd"
      },
      "execution_count": 130,
      "outputs": [
        {
          "output_type": "execute_result",
          "data": {
            "text/plain": [
              "array([ 1.61168440e+01, -1.11684397e+00, -1.30367773e-15])"
            ]
          },
          "metadata": {},
          "execution_count": 130
        }
      ]
    },
    {
      "cell_type": "code",
      "source": [
        "eigenvectors"
      ],
      "metadata": {
        "colab": {
          "base_uri": "https://localhost:8080/"
        },
        "id": "2XPdCC1QZ02N",
        "outputId": "980116f4-6eef-4f6d-9b6b-58b2f4328acb"
      },
      "execution_count": 131,
      "outputs": [
        {
          "output_type": "execute_result",
          "data": {
            "text/plain": [
              "array([[-0.23197069, -0.78583024,  0.40824829],\n",
              "       [-0.52532209, -0.08675134, -0.81649658],\n",
              "       [-0.8186735 ,  0.61232756,  0.40824829]])"
            ]
          },
          "metadata": {},
          "execution_count": 131
        }
      ]
    },
    {
      "cell_type": "markdown",
      "source": [
        "# **Calculating the Dot Products**"
      ],
      "metadata": {
        "id": "U62EILp9agew"
      }
    },
    {
      "cell_type": "code",
      "source": [
        "vactor_a = np.array([1,2,3])\n",
        "vector_b = np.array([4,5,6])"
      ],
      "metadata": {
        "id": "x35WukKOZ6EU"
      },
      "execution_count": 132,
      "outputs": []
    },
    {
      "cell_type": "code",
      "source": [
        "np.dot(vactor_a,vector_b)"
      ],
      "metadata": {
        "colab": {
          "base_uri": "https://localhost:8080/"
        },
        "id": "qViumBlfalGc",
        "outputId": "c1121e8d-5442-4c18-86b0-c21cc1c1257a"
      },
      "execution_count": 133,
      "outputs": [
        {
          "output_type": "execute_result",
          "data": {
            "text/plain": [
              "32"
            ]
          },
          "metadata": {},
          "execution_count": 133
        }
      ]
    },
    {
      "cell_type": "code",
      "source": [
        "matrix1 = np.array([[1,2,3],\n",
        "                   [4,5,6],\n",
        "                   [7,8,9]])\n",
        "matrix = np.array([[1,2,3],\n",
        "                   [4,5,6],\n",
        "                   [7,8,9]])"
      ],
      "metadata": {
        "id": "f7-4LXdza7pc"
      },
      "execution_count": 134,
      "outputs": []
    },
    {
      "cell_type": "code",
      "source": [
        "np.dot(matrix,matrix1)"
      ],
      "metadata": {
        "colab": {
          "base_uri": "https://localhost:8080/"
        },
        "id": "qAZILykZbvLV",
        "outputId": "fa3338df-b4c2-4c32-cf77-58344d36b7d2"
      },
      "execution_count": 137,
      "outputs": [
        {
          "output_type": "execute_result",
          "data": {
            "text/plain": [
              "array([[ 30,  36,  42],\n",
              "       [ 66,  81,  96],\n",
              "       [102, 126, 150]])"
            ]
          },
          "metadata": {},
          "execution_count": 137
        }
      ]
    },
    {
      "cell_type": "markdown",
      "source": [
        "# **Adding and Subtracting Matrices**"
      ],
      "metadata": {
        "id": "B3kR2amdbjZ1"
      }
    },
    {
      "cell_type": "code",
      "source": [
        "matrix1 = np.array([[1,2,3],\n",
        "                   [4,5,6],\n",
        "                   [7,8,9]])\n",
        "\n",
        "matrix2 = np.array([[1,2,3],\n",
        "                   [4,5,6],\n",
        "                   [7,8,9]])"
      ],
      "metadata": {
        "id": "Il365h9Kba11"
      },
      "execution_count": 138,
      "outputs": []
    },
    {
      "cell_type": "code",
      "source": [
        "np.add(matrix1,matrix2)"
      ],
      "metadata": {
        "colab": {
          "base_uri": "https://localhost:8080/"
        },
        "id": "j-vfrpk1b44r",
        "outputId": "39da8a32-5057-4e94-c8e3-7c37560db685"
      },
      "execution_count": 139,
      "outputs": [
        {
          "output_type": "execute_result",
          "data": {
            "text/plain": [
              "array([[ 2,  4,  6],\n",
              "       [ 8, 10, 12],\n",
              "       [14, 16, 18]])"
            ]
          },
          "metadata": {},
          "execution_count": 139
        }
      ]
    },
    {
      "cell_type": "code",
      "source": [
        "np.subtract(matrix1,matrix2)"
      ],
      "metadata": {
        "colab": {
          "base_uri": "https://localhost:8080/"
        },
        "id": "7qPIwNmeb-ej",
        "outputId": "34b61f6c-d245-4052-c3c8-774714f073ca"
      },
      "execution_count": 140,
      "outputs": [
        {
          "output_type": "execute_result",
          "data": {
            "text/plain": [
              "array([[0, 0, 0],\n",
              "       [0, 0, 0],\n",
              "       [0, 0, 0]])"
            ]
          },
          "metadata": {},
          "execution_count": 140
        }
      ]
    },
    {
      "cell_type": "markdown",
      "source": [
        " **We can simply use the \"+\" and \"-\" for subtracting and adding**"
      ],
      "metadata": {
        "id": "v2dutW2GcHeP"
      }
    },
    {
      "cell_type": "code",
      "source": [
        "matrix1+matrix2"
      ],
      "metadata": {
        "colab": {
          "base_uri": "https://localhost:8080/"
        },
        "id": "HILh2b7TcDnv",
        "outputId": "c20361f7-e0d7-4823-e6a5-73d5b9f75436"
      },
      "execution_count": 141,
      "outputs": [
        {
          "output_type": "execute_result",
          "data": {
            "text/plain": [
              "array([[ 2,  4,  6],\n",
              "       [ 8, 10, 12],\n",
              "       [14, 16, 18]])"
            ]
          },
          "metadata": {},
          "execution_count": 141
        }
      ]
    },
    {
      "cell_type": "code",
      "source": [
        "matrix1-matrix2"
      ],
      "metadata": {
        "colab": {
          "base_uri": "https://localhost:8080/"
        },
        "id": "zd0YC_14cUwV",
        "outputId": "e81ae28d-8203-4ecb-d517-f439ab2ccb20"
      },
      "execution_count": 142,
      "outputs": [
        {
          "output_type": "execute_result",
          "data": {
            "text/plain": [
              "array([[0, 0, 0],\n",
              "       [0, 0, 0],\n",
              "       [0, 0, 0]])"
            ]
          },
          "metadata": {},
          "execution_count": 142
        }
      ]
    },
    {
      "cell_type": "markdown",
      "source": [
        "# **Multiplying Matrices**"
      ],
      "metadata": {
        "id": "MaeSv4UZc_5K"
      }
    },
    {
      "cell_type": "code",
      "source": [
        "m=np.array([[1,2],\n",
        "            [3,4]])\n",
        "\n",
        "n=np.array([[4,5],\n",
        "            [6,7]])"
      ],
      "metadata": {
        "id": "gS0v_Cuccw5M"
      },
      "execution_count": 143,
      "outputs": []
    },
    {
      "cell_type": "code",
      "source": [
        "np.dot(m,n)"
      ],
      "metadata": {
        "colab": {
          "base_uri": "https://localhost:8080/"
        },
        "id": "dkOr_8_DdKcM",
        "outputId": "79f33965-62aa-4a1b-d21e-b9475001f019"
      },
      "execution_count": 144,
      "outputs": [
        {
          "output_type": "execute_result",
          "data": {
            "text/plain": [
              "array([[16, 19],\n",
              "       [36, 43]])"
            ]
          },
          "metadata": {},
          "execution_count": 144
        }
      ]
    },
    {
      "cell_type": "markdown",
      "source": [
        "**Another way to multiply matrices using \"@\" operator**\n",
        "\n",
        "\n"
      ],
      "metadata": {
        "id": "319a9nccedwF"
      }
    },
    {
      "cell_type": "code",
      "source": [
        "m@n"
      ],
      "metadata": {
        "colab": {
          "base_uri": "https://localhost:8080/"
        },
        "id": "4jFAst3leb68",
        "outputId": "434fb681-982f-4058-c47e-b4b0257dee04"
      },
      "execution_count": 151,
      "outputs": [
        {
          "output_type": "execute_result",
          "data": {
            "text/plain": [
              "array([[16, 19],\n",
              "       [36, 43]])"
            ]
          },
          "metadata": {},
          "execution_count": 151
        }
      ]
    },
    {
      "cell_type": "markdown",
      "source": [
        "**If we want to do element-wise multiplication,we can use the  \"*\" operator**"
      ],
      "metadata": {
        "id": "gAypc4MSdgkZ"
      }
    },
    {
      "cell_type": "code",
      "source": [
        "m"
      ],
      "metadata": {
        "colab": {
          "base_uri": "https://localhost:8080/"
        },
        "id": "FbWT_vjTdcJ2",
        "outputId": "ce8a535c-a493-4df7-8468-503807094983"
      },
      "execution_count": 148,
      "outputs": [
        {
          "output_type": "execute_result",
          "data": {
            "text/plain": [
              "array([[1, 2],\n",
              "       [3, 4]])"
            ]
          },
          "metadata": {},
          "execution_count": 148
        }
      ]
    },
    {
      "cell_type": "code",
      "source": [
        "n"
      ],
      "metadata": {
        "colab": {
          "base_uri": "https://localhost:8080/"
        },
        "id": "3Q5C6-6gdn18",
        "outputId": "cfd54764-3245-4cdd-967c-a7f722cc1782"
      },
      "execution_count": 149,
      "outputs": [
        {
          "output_type": "execute_result",
          "data": {
            "text/plain": [
              "array([[4, 5],\n",
              "       [6, 7]])"
            ]
          },
          "metadata": {},
          "execution_count": 149
        }
      ]
    },
    {
      "cell_type": "code",
      "source": [
        "m*n"
      ],
      "metadata": {
        "colab": {
          "base_uri": "https://localhost:8080/"
        },
        "id": "hUIj29kCdwr0",
        "outputId": "c6918bd9-d425-4156-9295-5748c48ca58d"
      },
      "execution_count": 150,
      "outputs": [
        {
          "output_type": "execute_result",
          "data": {
            "text/plain": [
              "array([[ 4, 10],\n",
              "       [18, 28]])"
            ]
          },
          "metadata": {},
          "execution_count": 150
        }
      ]
    },
    {
      "cell_type": "markdown",
      "source": [
        "# **Inverting a Matrix**"
      ],
      "metadata": {
        "id": "RpZ311r5e8dr"
      }
    },
    {
      "cell_type": "markdown",
      "source": [
        "**You want to calculate the inverse of a square matrix**"
      ],
      "metadata": {
        "id": "PMDgdz0KfDr6"
      }
    },
    {
      "cell_type": "code",
      "source": [
        "m=np.array([[1, 2],\n",
        "            [3, 4]])\n",
        "m"
      ],
      "metadata": {
        "colab": {
          "base_uri": "https://localhost:8080/"
        },
        "id": "5NwYluZqdyyc",
        "outputId": "a769421b-df6a-4f92-f502-7fd356421b35"
      },
      "execution_count": 154,
      "outputs": [
        {
          "output_type": "execute_result",
          "data": {
            "text/plain": [
              "array([[1, 2],\n",
              "       [3, 4]])"
            ]
          },
          "metadata": {},
          "execution_count": 154
        }
      ]
    },
    {
      "cell_type": "code",
      "source": [
        "np.linalg.inv(m)"
      ],
      "metadata": {
        "colab": {
          "base_uri": "https://localhost:8080/"
        },
        "id": "XnYnIeH8e74V",
        "outputId": "495c8978-87c9-49d8-c6c0-f5c1cc1dab6a"
      },
      "execution_count": 155,
      "outputs": [
        {
          "output_type": "execute_result",
          "data": {
            "text/plain": [
              "array([[-2. ,  1. ],\n",
              "       [ 1.5, -0.5]])"
            ]
          },
          "metadata": {},
          "execution_count": 155
        }
      ]
    },
    {
      "cell_type": "code",
      "source": [
        "n=np.array([[1,4],\n",
        "            [2,5]])"
      ],
      "metadata": {
        "id": "28vVd6vffCQc"
      },
      "execution_count": 156,
      "outputs": []
    },
    {
      "cell_type": "code",
      "source": [
        "np.linalg.inv(n)"
      ],
      "metadata": {
        "colab": {
          "base_uri": "https://localhost:8080/"
        },
        "id": "9SVOVJYOfOaT",
        "outputId": "e95e4a7c-f112-41e3-968e-2352c3fd3b8e"
      },
      "execution_count": 157,
      "outputs": [
        {
          "output_type": "execute_result",
          "data": {
            "text/plain": [
              "array([[-1.66666667,  1.33333333],\n",
              "       [ 0.66666667, -0.33333333]])"
            ]
          },
          "metadata": {},
          "execution_count": 157
        }
      ]
    },
    {
      "cell_type": "markdown",
      "source": [
        "# **Genrating Random values**"
      ],
      "metadata": {
        "id": "NubUSR9sgxky"
      }
    },
    {
      "cell_type": "code",
      "source": [
        "np.random.randint(0,5,3)"
      ],
      "metadata": {
        "colab": {
          "base_uri": "https://localhost:8080/"
        },
        "id": "Kvj5jOCKf4wU",
        "outputId": "6d60e34b-0fab-40db-f059-867aca181c26"
      },
      "execution_count": 159,
      "outputs": [
        {
          "output_type": "execute_result",
          "data": {
            "text/plain": [
              "array([4, 4, 2])"
            ]
          },
          "metadata": {},
          "execution_count": 159
        }
      ]
    },
    {
      "cell_type": "code",
      "source": [
        "np.random.randint(1,9,6)"
      ],
      "metadata": {
        "colab": {
          "base_uri": "https://localhost:8080/"
        },
        "id": "5Ys-3LCmg23M",
        "outputId": "968f4705-7c85-497b-91b4-ddb67a0ead4a"
      },
      "execution_count": 161,
      "outputs": [
        {
          "output_type": "execute_result",
          "data": {
            "text/plain": [
              "array([2, 7, 2, 8, 7, 3])"
            ]
          },
          "metadata": {},
          "execution_count": 161
        }
      ]
    },
    {
      "cell_type": "code",
      "source": [
        "np.random.randint(1,11,9).reshape(3,3)"
      ],
      "metadata": {
        "colab": {
          "base_uri": "https://localhost:8080/"
        },
        "id": "nx8ylJishJo0",
        "outputId": "d7662b5f-7871-46ae-f00d-c475c338ce69"
      },
      "execution_count": 163,
      "outputs": [
        {
          "output_type": "execute_result",
          "data": {
            "text/plain": [
              "array([[4, 2, 3],\n",
              "       [1, 8, 5],\n",
              "       [3, 2, 3]])"
            ]
          },
          "metadata": {},
          "execution_count": 163
        }
      ]
    },
    {
      "cell_type": "code",
      "source": [
        "np.random.randint(1,15,12).reshape(4,3)"
      ],
      "metadata": {
        "colab": {
          "base_uri": "https://localhost:8080/"
        },
        "id": "iG0mDjMkhUC0",
        "outputId": "b6342a27-325e-4761-c969-653efe5c08eb"
      },
      "execution_count": 166,
      "outputs": [
        {
          "output_type": "execute_result",
          "data": {
            "text/plain": [
              "array([[ 5,  8, 12],\n",
              "       [14,  5,  8],\n",
              "       [ 5, 11, 10],\n",
              "       [ 1,  3, 11]])"
            ]
          },
          "metadata": {},
          "execution_count": 166
        }
      ]
    },
    {
      "cell_type": "code",
      "source": [
        "np.random.seed(1)\n",
        "np.random.randint(1,5,5)"
      ],
      "metadata": {
        "colab": {
          "base_uri": "https://localhost:8080/"
        },
        "id": "3arp1WI1hgUU",
        "outputId": "920f4095-30ec-4edb-a5ce-373d39b7e47d"
      },
      "execution_count": 169,
      "outputs": [
        {
          "output_type": "execute_result",
          "data": {
            "text/plain": [
              "array([2, 4, 1, 1, 4])"
            ]
          },
          "metadata": {},
          "execution_count": 169
        }
      ]
    },
    {
      "cell_type": "code",
      "source": [
        "np.random.seed(1)\n",
        "np.random.randint(1,9,6).reshape(2,3)"
      ],
      "metadata": {
        "colab": {
          "base_uri": "https://localhost:8080/"
        },
        "id": "7I5FCzEFhvC8",
        "outputId": "476f532c-92e2-40ca-9c0e-df3d5caf936f"
      },
      "execution_count": 172,
      "outputs": [
        {
          "output_type": "execute_result",
          "data": {
            "text/plain": [
              "array([[6, 4, 5],\n",
              "       [1, 8, 2]])"
            ]
          },
          "metadata": {},
          "execution_count": 172
        }
      ]
    },
    {
      "cell_type": "code",
      "source": [
        "np.random.normal(1.0,2.0,10).reshape(2,5)"
      ],
      "metadata": {
        "colab": {
          "base_uri": "https://localhost:8080/"
        },
        "id": "9E-7yZDEh0Fs",
        "outputId": "0c5245e1-6265-4097-f500-a97ff8969371"
      },
      "execution_count": 176,
      "outputs": [
        {
          "output_type": "execute_result",
          "data": {
            "text/plain": [
              "array([[-0.60434568,  0.10224438, -1.21187015, -2.3090309 , -3.72693721],\n",
              "       [ 3.2706907 , -1.03402827,  2.27472363, -0.71981321,  4.54521526]])"
            ]
          },
          "metadata": {},
          "execution_count": 176
        }
      ]
    },
    {
      "cell_type": "code",
      "source": [
        "np.random.normal(3,5,10).reshape(5,2)"
      ],
      "metadata": {
        "colab": {
          "base_uri": "https://localhost:8080/"
        },
        "id": "LP2t_Z88iHe0",
        "outputId": "0f9e3ada-7ea3-4716-e8b9-b55be1561941"
      },
      "execution_count": 177,
      "outputs": [
        {
          "output_type": "execute_result",
          "data": {
            "text/plain": [
              "array([[-2.55181527,  3.90607133],\n",
              "       [ 5.82172433,  0.16744885],\n",
              "       [ 6.64987798,  4.86496895],\n",
              "       [ 5.66905456,  2.5401335 ],\n",
              "       [12.56910194,  4.65398565]])"
            ]
          },
          "metadata": {},
          "execution_count": 177
        }
      ]
    },
    {
      "cell_type": "code",
      "source": [],
      "metadata": {
        "id": "5RVc_v4nida8"
      },
      "execution_count": null,
      "outputs": []
    }
  ]
}